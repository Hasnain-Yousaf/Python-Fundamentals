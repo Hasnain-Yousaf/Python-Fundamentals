{
 "cells": [
  {
   "cell_type": "code",
   "execution_count": 4,
   "id": "8a3263da-5b0d-4138-9390-64e100d5aa92",
   "metadata": {},
   "outputs": [
    {
     "name": "stdout",
     "output_type": "stream",
     "text": [
      "List is too long (5 elements, expected <=3)\n"
     ]
    }
   ],
   "source": [
    "# Using walrus operator\n",
    "if (n := len([1, 2, 3, 4, 5])) >3:\n",
    "    print(f\"List is too long ({n} elements, expected <=3)\")"
   ]
  },
  {
   "cell_type": "code",
   "execution_count": null,
   "id": "335979a8-f413-44fd-9d72-5f585f8456cb",
   "metadata": {},
   "outputs": [],
   "source": []
  },
  {
   "cell_type": "code",
   "execution_count": 2,
   "id": "109970ea-b9ce-4c31-b089-fffd58cebaf8",
   "metadata": {},
   "outputs": [],
   "source": [
    "#name: str = \"Hasnain\"\n",
    "\n",
    "# n: int = 5\n",
    "\n",
    "def sum(a: int, b: int):\n",
    "    return a+b"
   ]
  },
  {
   "cell_type": "code",
   "execution_count": null,
   "id": "0aeb7d4c-6c31-48cc-baf1-ff242770937a",
   "metadata": {},
   "outputs": [],
   "source": []
  },
  {
   "cell_type": "code",
   "execution_count": 3,
   "id": "ed19690e-ffcb-4d80-8310-e4cec999967c",
   "metadata": {},
   "outputs": [],
   "source": [
    "# from typing import List, Tuple, Dict, Union \n",
    "# List of integers \n",
    "        # numbers: List[int] = [1, 2, 3, 4, 5] \n",
    "# # Tuple of a string and an integer \n",
    "        # person: Tuple[str, int] = (\"Alice\", 30) \n",
    "# # Dictionary with string keys and integer values \n",
    "        # scores: Dict[str, int] = {\"Alice\": 90, \"Bob\": 85} \n",
    "# # Union type for variables that can hold multiple types \n",
    "        # identifier: Union[int, str] = \"ID123\" \n",
    "# identifier = 12345  # Also valid "
   ]
  },
  {
   "cell_type": "markdown",
   "id": "b3298c16-60a0-4909-ba26-2bae6f9d3f4a",
   "metadata": {},
   "source": [
    "# MATCH CASE "
   ]
  },
  {
   "cell_type": "code",
   "execution_count": 18,
   "id": "cf13b22a-0c73-4370-afc7-349f868fff6e",
   "metadata": {},
   "outputs": [
    {
     "name": "stdout",
     "output_type": "stream",
     "text": [
      "OK\n",
      "Not Found\n",
      "Internal Server Error\n",
      "Unknown status\n"
     ]
    }
   ],
   "source": [
    "def http_status(status): \n",
    "    match status:\n",
    "        case 200:\n",
    "            return \"OK\" \n",
    "        case 404:\n",
    "            return \"Not Found\" \n",
    "        case 500:\n",
    "            return \"Internal Server Error\" \n",
    "        case _:\n",
    "            return \"Unknown status\" \n",
    "            \n",
    "# Usage \n",
    "print(http_status(200))  # Output: OK \n",
    "print(http_status(404))  # Output: Not Found \n",
    "print(http_status(500))  # Output: Internal Server Error \n",
    "print(http_status(403))  # Output: Unknown status "
   ]
  },
  {
   "cell_type": "markdown",
   "id": "93788484-2896-4728-821a-62ee55a3c90f",
   "metadata": {},
   "source": [
    "# DICTIONARY MERGE"
   ]
  },
  {
   "cell_type": "code",
   "execution_count": 5,
   "id": "767f584d-bbe6-4b6d-82b1-a4739e48a632",
   "metadata": {},
   "outputs": [
    {
     "name": "stdout",
     "output_type": "stream",
     "text": [
      "{'ID': 12, 'S.No': 12, 'Row': 34, 'Column': 32}\n"
     ]
    }
   ],
   "source": [
    "dict1 = {\"ID\":12,\"S.No\":12}\n",
    "dict2 = {\"Row\":34, \"Column\":32}\n",
    "\n",
    "merged = dict1 | dict2\n",
    "\n",
    "print(merged)"
   ]
  },
  {
   "cell_type": "markdown",
   "id": "496fb3b4-48f4-4d52-985b-2d8955250cf8",
   "metadata": {},
   "source": [
    "# DICTIONARY MERGE & UPDATE OPERATORS  -->"
   ]
  },
  {
   "cell_type": "code",
   "execution_count": 22,
   "id": "3b938561-ed7e-440a-bc7e-982046304e91",
   "metadata": {},
   "outputs": [
    {
     "name": "stdin",
     "output_type": "stream",
     "text": [
      "Hey! Enter a Valid Number ttt\n"
     ]
    },
    {
     "ename": "ValueError",
     "evalue": "invalid literal for int() with base 10: 'ttt'",
     "output_type": "error",
     "traceback": [
      "\u001b[1;31m---------------------------------------------------------------------------\u001b[0m",
      "\u001b[1;31mValueError\u001b[0m                                Traceback (most recent call last)",
      "Cell \u001b[1;32mIn[22], line 1\u001b[0m\n\u001b[1;32m----> 1\u001b[0m a \u001b[38;5;241m=\u001b[39m (\u001b[38;5;28;43mint\u001b[39;49m\u001b[43m(\u001b[49m\u001b[38;5;28;43minput\u001b[39;49m\u001b[43m(\u001b[49m\u001b[38;5;124;43m\"\u001b[39;49m\u001b[38;5;124;43mHey! Enter a Valid Number\u001b[39;49m\u001b[38;5;124;43m\"\u001b[39;49m\u001b[43m)\u001b[49m\u001b[43m)\u001b[49m)\n\u001b[0;32m      2\u001b[0m \u001b[38;5;28mprint\u001b[39m(a)\n",
      "\u001b[1;31mValueError\u001b[0m: invalid literal for int() with base 10: 'ttt'"
     ]
    }
   ],
   "source": [
    "a = (int(input(\"Hey! Enter a Valid Number\")))\n",
    "print(a)"
   ]
  },
  {
   "cell_type": "code",
   "execution_count": 21,
   "id": "64f8e0ce-7df5-4d32-9ef8-a26cd5afb204",
   "metadata": {},
   "outputs": [
    {
     "name": "stdin",
     "output_type": "stream",
     "text": [
      "Hey! Enter a Valid Number tr\n"
     ]
    },
    {
     "name": "stdout",
     "output_type": "stream",
     "text": [
      "invalid literal for int() with base 10: 'tr'\n",
      "Thank You\n"
     ]
    }
   ],
   "source": [
    "try:\n",
    "    \n",
    "    b = (int(input(\"Hey! Enter a Valid Number\")))\n",
    "    print(b)\n",
    "     \n",
    "except Exception as c:\n",
    "    print(c)\n",
    "\n",
    "print(\"Thank You\")"
   ]
  },
  {
   "cell_type": "code",
   "execution_count": 11,
   "id": "afeda306-01dd-4395-b68d-677432f6ba56",
   "metadata": {},
   "outputs": [
    {
     "name": "stdin",
     "output_type": "stream",
     "text": [
      "Hey! Enter a Valid Number yt\n"
     ]
    },
    {
     "name": "stdout",
     "output_type": "stream",
     "text": [
      "Hey!\n",
      "invalid literal for int() with base 10: 'yt'\n",
      "Thank You\n"
     ]
    }
   ],
   "source": [
    "try:\n",
    "    \n",
    "    b = (int(input(\"Hey! Enter a Valid Number\")))\n",
    "    print(b)\n",
    "\n",
    "except ValueError as v:\n",
    "    print(\"Hey!\")\n",
    "    print(v)\n",
    "    \n",
    "except Exception as c:\n",
    "    print(c)\n",
    "\n",
    "print(\"Thank You\")"
   ]
  },
  {
   "cell_type": "code",
   "execution_count": null,
   "id": "5036f8d2-3e11-4155-9cc4-3c292e6df253",
   "metadata": {},
   "outputs": [],
   "source": []
  },
  {
   "cell_type": "code",
   "execution_count": 23,
   "id": "d14cb0ac-b4e3-4485-968e-ecb86e891d51",
   "metadata": {},
   "outputs": [
    {
     "name": "stdin",
     "output_type": "stream",
     "text": [
      "Enter your number:  23\n",
      "Enter your second number:  0\n"
     ]
    },
    {
     "ename": "ZeroDivisionError",
     "evalue": "division by zero",
     "output_type": "error",
     "traceback": [
      "\u001b[1;31m---------------------------------------------------------------------------\u001b[0m",
      "\u001b[1;31mZeroDivisionError\u001b[0m                         Traceback (most recent call last)",
      "Cell \u001b[1;32mIn[23], line 4\u001b[0m\n\u001b[0;32m      1\u001b[0m a \u001b[38;5;241m=\u001b[39m \u001b[38;5;28mint\u001b[39m(\u001b[38;5;28minput\u001b[39m(\u001b[38;5;124m'\u001b[39m\u001b[38;5;124mEnter your number: \u001b[39m\u001b[38;5;124m'\u001b[39m))\n\u001b[0;32m      2\u001b[0m b \u001b[38;5;241m=\u001b[39m \u001b[38;5;28mint\u001b[39m(\u001b[38;5;28minput\u001b[39m(\u001b[38;5;124m\"\u001b[39m\u001b[38;5;124mEnter your second number: \u001b[39m\u001b[38;5;124m\"\u001b[39m))\n\u001b[1;32m----> 4\u001b[0m \u001b[38;5;28mprint\u001b[39m(\u001b[43ma\u001b[49m\u001b[43m \u001b[49m\u001b[38;5;241;43m/\u001b[39;49m\u001b[43m \u001b[49m\u001b[43mb\u001b[49m)\n",
      "\u001b[1;31mZeroDivisionError\u001b[0m: division by zero"
     ]
    }
   ],
   "source": [
    "a = int(input('Enter your number: '))\n",
    "b = int(input(\"Enter your second number: \"))\n",
    "\n",
    "print(a / b)"
   ]
  },
  {
   "cell_type": "code",
   "execution_count": 25,
   "id": "9e8480bc-0460-44dc-8a79-6e1cb80a0757",
   "metadata": {},
   "outputs": [
    {
     "name": "stdin",
     "output_type": "stream",
     "text": [
      "Enter your number:  34\n",
      "Enter your second number:  0\n"
     ]
    },
    {
     "ename": "ZeroDivisionError",
     "evalue": "Hey! our Python is not meant to divide numbers by Zero ",
     "output_type": "error",
     "traceback": [
      "\u001b[1;31m---------------------------------------------------------------------------\u001b[0m",
      "\u001b[1;31mZeroDivisionError\u001b[0m                         Traceback (most recent call last)",
      "Cell \u001b[1;32mIn[25], line 5\u001b[0m\n\u001b[0;32m      2\u001b[0m b \u001b[38;5;241m=\u001b[39m \u001b[38;5;28mint\u001b[39m(\u001b[38;5;28minput\u001b[39m(\u001b[38;5;124m\"\u001b[39m\u001b[38;5;124mEnter your second number: \u001b[39m\u001b[38;5;124m\"\u001b[39m))\n\u001b[0;32m      4\u001b[0m \u001b[38;5;28;01mif\u001b[39;00m(b \u001b[38;5;241m==\u001b[39m \u001b[38;5;241m0\u001b[39m):\n\u001b[1;32m----> 5\u001b[0m     \u001b[38;5;28;01mraise\u001b[39;00m \u001b[38;5;167;01mZeroDivisionError\u001b[39;00m (\u001b[38;5;124m\"\u001b[39m\u001b[38;5;124mHey! our Python is not meant to divide numbers by Zero \u001b[39m\u001b[38;5;124m\"\u001b[39m)\n\u001b[0;32m      7\u001b[0m \u001b[38;5;28;01melse\u001b[39;00m:\n\u001b[0;32m      8\u001b[0m     \u001b[38;5;28mprint\u001b[39m(\u001b[38;5;124mf\u001b[39m\u001b[38;5;124m\"\u001b[39m\u001b[38;5;124mThe division a/b is: \u001b[39m\u001b[38;5;132;01m{\u001b[39;00ma\u001b[38;5;241m/\u001b[39mb\u001b[38;5;132;01m}\u001b[39;00m\u001b[38;5;124m\"\u001b[39m)\n",
      "\u001b[1;31mZeroDivisionError\u001b[0m: Hey! our Python is not meant to divide numbers by Zero "
     ]
    }
   ],
   "source": [
    "a = int(input('Enter your number: '))\n",
    "b = int(input(\"Enter your second number: \"))\n",
    "\n",
    "if(b == 0):\n",
    "    raise ZeroDivisionError (\"Hey! our Python is not meant to divide numbers by Zero \")\n",
    "\n",
    "else:\n",
    "    print(f\"The division a/b is: {a/b}\")"
   ]
  },
  {
   "cell_type": "code",
   "execution_count": null,
   "id": "11518bf3-7548-4ca6-8a41-ab3cabad9403",
   "metadata": {},
   "outputs": [],
   "source": []
  },
  {
   "cell_type": "code",
   "execution_count": 26,
   "id": "508aeafa-2cc0-4426-b476-2f7f6e38d5dc",
   "metadata": {},
   "outputs": [
    {
     "name": "stdin",
     "output_type": "stream",
     "text": [
      "Please enter your number:  43\n"
     ]
    },
    {
     "name": "stdout",
     "output_type": "stream",
     "text": [
      "43\n",
      "I'm inside the Else\n"
     ]
    }
   ],
   "source": [
    "try:\n",
    "    a = int(input(\"Please enter your number: \"))\n",
    "    print(a)\n",
    "\n",
    "except Exception as e:\n",
    "    print(e)\n",
    "\n",
    "else:\n",
    "    print(\"I'm inside the Else\")"
   ]
  },
  {
   "cell_type": "markdown",
   "id": "94c9a7f8-c12c-42be-a8ec-401beb6fb200",
   "metadata": {},
   "source": [
    "# TRY WITH FINALLY "
   ]
  },
  {
   "cell_type": "code",
   "execution_count": 37,
   "id": "c110de23-37a0-467e-a262-1270f16c69de",
   "metadata": {},
   "outputs": [],
   "source": [
    "def my_Function():\n",
    "    try:\n",
    "        a = int(input(\"Please enter your number: \"))\n",
    "        print(a)\n",
    "        return\n",
    "\n",
    "    except Exception as e:\n",
    "        print(e)\n",
    "        return\n",
    "        \n",
    "    print(\"I'm inside the Else\")"
   ]
  },
  {
   "cell_type": "code",
   "execution_count": 38,
   "id": "17118db1-1f53-491d-be24-265948a4192c",
   "metadata": {},
   "outputs": [
    {
     "name": "stdin",
     "output_type": "stream",
     "text": [
      "Please enter your number:  43\n"
     ]
    },
    {
     "name": "stdout",
     "output_type": "stream",
     "text": [
      "43\n"
     ]
    }
   ],
   "source": [
    "my_Function()"
   ]
  },
  {
   "cell_type": "code",
   "execution_count": 39,
   "id": "0af7b960-0d0f-46ca-af0f-f25843f9744e",
   "metadata": {},
   "outputs": [],
   "source": [
    "def myFunc():\n",
    "    try:\n",
    "        a = int(input(\"Please enter your number: \"))\n",
    "        print(a)\n",
    "        return\n",
    "\n",
    "    except Exception as e:\n",
    "        print(e)\n",
    "        return\n",
    "        \n",
    "    finally:\n",
    "        print(\"I'm inside the Else\")"
   ]
  },
  {
   "cell_type": "code",
   "execution_count": 40,
   "id": "cd310e66-6008-4f3d-869b-08c0c828ddde",
   "metadata": {},
   "outputs": [
    {
     "name": "stdin",
     "output_type": "stream",
     "text": [
      "Please enter your number:  56\n"
     ]
    },
    {
     "name": "stdout",
     "output_type": "stream",
     "text": [
      "56\n",
      "I'm inside the Else\n"
     ]
    }
   ],
   "source": [
    "myFunc()"
   ]
  },
  {
   "cell_type": "code",
   "execution_count": null,
   "id": "108ed571-07cb-449a-b89a-ed7fd9e050e8",
   "metadata": {},
   "outputs": [],
   "source": []
  },
  {
   "cell_type": "code",
   "execution_count": 57,
   "id": "ae6f19c0-0e2b-4404-bccb-5e27aa9da1f7",
   "metadata": {},
   "outputs": [
    {
     "name": "stdout",
     "output_type": "stream",
     "text": [
      "The item number at index 0 is 1\n",
      "The item number at index 1 is 234\n",
      "The item number at index 2 is 5\n",
      "The item number at index 3 is 677\n",
      "The item number at index 4 is 8\n",
      "The item number at index 5 is 9\n"
     ]
    }
   ],
   "source": [
    "l = [1,234,5,677,8,9]\n",
    "\n",
    "for i, item in enumerate(l):\n",
    "    print(f\"The item number at index {i} is {item}\")"
   ]
  },
  {
   "cell_type": "code",
   "execution_count": null,
   "id": "01f4c129-fa87-424e-80fb-f71d91dd7cf6",
   "metadata": {},
   "outputs": [],
   "source": []
  },
  {
   "cell_type": "code",
   "execution_count": 61,
   "id": "2f83366e-4d94-45e0-8443-bbdce1291b28",
   "metadata": {},
   "outputs": [
    {
     "name": "stdout",
     "output_type": "stream",
     "text": [
      "[1, 1225, 49, 4489, 7921]\n"
     ]
    }
   ],
   "source": [
    "my_list = [1,35,7,67,89]\n",
    "\n",
    "# squaredList = []\n",
    "# for item in my_list:\n",
    "#     squaredList.append(item * item\n",
    "\n",
    "\n",
    "# Alternative Way\n",
    "squaredList = [i*i for i in my_list]\n",
    "print(squaredList)"
   ]
  },
  {
   "cell_type": "code",
   "execution_count": null,
   "id": "f798d7d6-bf30-48b4-980a-be8c85326833",
   "metadata": {},
   "outputs": [],
   "source": []
  },
  {
   "cell_type": "markdown",
   "id": "0d06d3db-87b8-431b-b8af-d703cf881a8e",
   "metadata": {},
   "source": [
    "# Practice_Problems"
   ]
  },
  {
   "cell_type": "code",
   "execution_count": 67,
   "id": "109f080c-6a54-4daa-ab46-ed5513863a26",
   "metadata": {},
   "outputs": [
    {
     "name": "stdout",
     "output_type": "stream",
     "text": [
      "3\n",
      "5\n",
      "7\n"
     ]
    }
   ],
   "source": [
    "# 2. Write a program to print third, fifth and seventh element from a list using enumerate function.\n",
    "\n",
    "List = [23,56,78,965,33,23,71,39]\n",
    "\n",
    "for i, items in enumerate(List):\n",
    "    if i == 3 or i == 5 or i == 7:\n",
    "        print(i)"
   ]
  },
  {
   "cell_type": "code",
   "execution_count": 72,
   "id": "6e500e23-bb46-4d72-bad6-3740e5cdb54d",
   "metadata": {},
   "outputs": [
    {
     "name": "stdin",
     "output_type": "stream",
     "text": [
      "Enter your number Plz:  9\n"
     ]
    },
    {
     "name": "stdout",
     "output_type": "stream",
     "text": [
      "[9, 18, 27, 36, 45, 54, 63, 72, 81, 90]\n"
     ]
    }
   ],
   "source": [
    "#3.Write a list comprehension to print a list which contains the multiplication table of a user entered number.\n",
    "\n",
    "num = int(input(\"Enter your number Plz: \"))\n",
    "\n",
    "numTable = [num*i for i in range(1,11)]\n",
    "print(numTable)"
   ]
  },
  {
   "cell_type": "code",
   "execution_count": 75,
   "id": "c171a05d-54aa-4da4-8691-afbe1b3e81d6",
   "metadata": {},
   "outputs": [
    {
     "name": "stdin",
     "output_type": "stream",
     "text": [
      "Enter your number Plz:  7\n"
     ]
    },
    {
     "name": "stdout",
     "output_type": "stream",
     "text": [
      "[7, 14, 21, 28, 35, 42, 49, 56, 63, 70]\n"
     ]
    }
   ],
   "source": [
    "number = int(input(\"Enter your number Plz: \"))\n",
    "\n",
    "Table = [number*i for i in range(1,11)]\n",
    "print(Table)"
   ]
  },
  {
   "cell_type": "code",
   "execution_count": 79,
   "id": "132c643b-b968-45fb-b90e-6520b668e652",
   "metadata": {},
   "outputs": [
    {
     "name": "stdin",
     "output_type": "stream",
     "text": [
      "Enter your c number Plz:  80\n",
      "Enter your d number Plz:  0\n"
     ]
    },
    {
     "name": "stdout",
     "output_type": "stream",
     "text": [
      "1.0\n"
     ]
    }
   ],
   "source": [
    "#4.Write a program to display a/b where a and b are integers. If b=0, display infinite by handling the ‘ZeroDivisionError’. \n",
    "\n",
    "try:\n",
    "    c = int(input(\"Enter your c number Plz: \"))\n",
    "    d = int(input(\"Enter your d number Plz: \"))\n",
    "    print(a/b)\n",
    "except ZeroDivisionError as z:\n",
    "    print(\"Infinite\")\n"
   ]
  },
  {
   "cell_type": "code",
   "execution_count": null,
   "id": "2aef6da7-66aa-4386-a09a-180b4f926105",
   "metadata": {},
   "outputs": [],
   "source": []
  },
  {
   "cell_type": "code",
   "execution_count": 1,
   "id": "8325d554-4e0e-4e64-b5bd-e0fa72cafc44",
   "metadata": {},
   "outputs": [
    {
     "name": "stdout",
     "output_type": "stream",
     "text": [
      "Hasnain::Yousaf\n"
     ]
    }
   ],
   "source": [
    "l = ['Hasnain','Yousaf']\n",
    "\n",
    "final = '::'.join(l)\n",
    "print(final)"
   ]
  },
  {
   "cell_type": "code",
   "execution_count": 2,
   "id": "937b51cf-892c-4bbf-8f28-fac9c225d1e2",
   "metadata": {},
   "outputs": [
    {
     "name": "stdout",
     "output_type": "stream",
     "text": [
      "Hasnain is a good boy\n"
     ]
    }
   ],
   "source": [
    "#By Default\n",
    "a = \"{} is a good {}\".format(\"Hasnain\", \"boy\")\n",
    "print(a)"
   ]
  },
  {
   "cell_type": "code",
   "execution_count": 3,
   "id": "fe8a96e0-4903-4af2-8b17-fae9678141f0",
   "metadata": {},
   "outputs": [
    {
     "name": "stdout",
     "output_type": "stream",
     "text": [
      "boy is a good Hasnain\n"
     ]
    }
   ],
   "source": [
    "# After Indexing\n",
    "b = \"{1} is a good {0}\".format(\"Hasnain\", \"boy\")\n",
    "print(b)"
   ]
  },
  {
   "cell_type": "code",
   "execution_count": null,
   "id": "3aeb3dca-f8c1-4c78-aa4a-7530ef21f9db",
   "metadata": {},
   "outputs": [],
   "source": []
  }
 ],
 "metadata": {
  "kernelspec": {
   "display_name": "Python 3 (ipykernel)",
   "language": "python",
   "name": "python3"
  },
  "language_info": {
   "codemirror_mode": {
    "name": "ipython",
    "version": 3
   },
   "file_extension": ".py",
   "mimetype": "text/x-python",
   "name": "python",
   "nbconvert_exporter": "python",
   "pygments_lexer": "ipython3",
   "version": "3.13.7"
  }
 },
 "nbformat": 4,
 "nbformat_minor": 5
}
