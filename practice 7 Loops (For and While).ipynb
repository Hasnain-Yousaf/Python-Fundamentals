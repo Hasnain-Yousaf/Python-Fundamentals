{
 "cells": [
  {
   "cell_type": "markdown",
   "id": "43ff5d4e-7980-4de8-9b49-799f7d13e312",
   "metadata": {},
   "source": [
    "# While Loop"
   ]
  },
  {
   "cell_type": "code",
   "execution_count": 13,
   "id": "1933e661-594e-4b90-8687-28127f814da3",
   "metadata": {},
   "outputs": [
    {
     "name": "stdout",
     "output_type": "stream",
     "text": [
      "1\n",
      "2\n",
      "3\n",
      "4\n",
      "5\n"
     ]
    }
   ],
   "source": [
    "i = 1\n",
    "\n",
    "while (i<6):\n",
    "    print(i)\n",
    "    i += 1"
   ]
  },
  {
   "cell_type": "code",
   "execution_count": 2,
   "id": "76e0c2b3-c585-480b-96d7-f504cad6997e",
   "metadata": {
    "scrolled": true
   },
   "outputs": [
    {
     "name": "stdout",
     "output_type": "stream",
     "text": [
      "1\n",
      "2\n",
      "3\n",
      "4\n",
      "5\n",
      "6\n",
      "7\n",
      "8\n",
      "9\n",
      "10\n",
      "11\n",
      "12\n",
      "13\n",
      "14\n",
      "15\n",
      "16\n",
      "17\n",
      "18\n",
      "19\n",
      "20\n"
     ]
    }
   ],
   "source": [
    "# Quick Quiz: Write a program to print 1 to 20 using a while loop.\n",
    "\n",
    "i = 1\n",
    "\n",
    "while (i<=20):\n",
    "    print(i)\n",
    "    i += 1"
   ]
  },
  {
   "cell_type": "code",
   "execution_count": 3,
   "id": "83553615-cd41-4896-a8e6-98df032680cf",
   "metadata": {},
   "outputs": [
    {
     "name": "stdout",
     "output_type": "stream",
     "text": [
      "1\n",
      "Hasnain\n",
      "2\n",
      "Yousaf\n",
      "Naeem\n",
      "Saleem\n",
      "Afzal\n"
     ]
    }
   ],
   "source": [
    "# Quick Quiz:  Write a program to print the content of a list using while loops.\n",
    "\n",
    "l = [1,'Hasnain',2,'Yousaf','Naeem','Saleem','Afzal']\n",
    "\n",
    "i = 0\n",
    "while (i < len(l) ):\n",
    "    print(l[i])\n",
    "    i += 1"
   ]
  },
  {
   "cell_type": "code",
   "execution_count": 16,
   "id": "32d03dde-36b1-4814-ac10-5a275408f712",
   "metadata": {},
   "outputs": [
    {
     "name": "stdout",
     "output_type": "stream",
     "text": [
      "H\n",
      "a\n",
      "s\n",
      "n\n",
      "a\n",
      "i\n",
      "n\n"
     ]
    }
   ],
   "source": [
    "st = 'Hasnain'\n",
    "\n",
    "i = 0\n",
    "while (i < len(st)):\n",
    "    print(st[i])\n",
    "    i += 1"
   ]
  },
  {
   "cell_type": "markdown",
   "id": "927cbc15-a5b4-49fa-866b-594be5e6ae12",
   "metadata": {},
   "source": [
    "# For Loop"
   ]
  },
  {
   "cell_type": "code",
   "execution_count": 17,
   "id": "cd3fd36b-9bea-483e-897f-34341754b49f",
   "metadata": {},
   "outputs": [
    {
     "name": "stdout",
     "output_type": "stream",
     "text": [
      "0\n",
      "1\n",
      "2\n",
      "3\n",
      "4\n",
      "5\n"
     ]
    }
   ],
   "source": [
    "for i in range(6):\n",
    "    print(i)"
   ]
  },
  {
   "cell_type": "code",
   "execution_count": 18,
   "id": "c3c92dcd-296d-4539-b219-fbead8d68c81",
   "metadata": {},
   "outputs": [
    {
     "name": "stdout",
     "output_type": "stream",
     "text": [
      "1\n",
      "2\n",
      "3\n",
      "4\n",
      "5\n",
      "6\n"
     ]
    }
   ],
   "source": [
    " l = [1,2,3,4,5,6]\n",
    "\n",
    "for i in l:\n",
    "    print(i)"
   ]
  },
  {
   "cell_type": "code",
   "execution_count": 19,
   "id": "6bdc6216-9cd3-44e4-bd14-4b5b80960551",
   "metadata": {},
   "outputs": [
    {
     "name": "stdout",
     "output_type": "stream",
     "text": [
      "H\n",
      "a\n",
      "s\n",
      "n\n",
      "a\n",
      "i\n",
      "n\n"
     ]
    }
   ],
   "source": [
    "st = \"Hasnain\"\n",
    "\n",
    "for i in st:\n",
    "    print(i)"
   ]
  },
  {
   "cell_type": "code",
   "execution_count": 20,
   "id": "f8e66375-f32e-49a4-8d54-1b75b5526273",
   "metadata": {},
   "outputs": [
    {
     "name": "stdout",
     "output_type": "stream",
     "text": [
      "['Hasnain', 'Hasnain', 'Hasnain', 'Hasnain', 'Hasnain', 'Hasnain', 'Hasnain']\n"
     ]
    }
   ],
   "source": [
    "l = ['Hasnain']\n",
    "\n",
    "for i in l:\n",
    "    print(l*7)"
   ]
  },
  {
   "cell_type": "code",
   "execution_count": 21,
   "id": "cbc4ffc6-823c-45a1-9b8e-cb5a986dd22e",
   "metadata": {},
   "outputs": [
    {
     "name": "stdout",
     "output_type": "stream",
     "text": [
      "Hasnain\n",
      "Naeem\n",
      "Saleem\n",
      "Yousaf\n",
      "\n",
      "Job has been done\n"
     ]
    }
   ],
   "source": [
    "# For loop with Else statement\n",
    "my_list = ['Hasnain','Naeem','Saleem','Yousaf']\n",
    "\n",
    "for i in my_list:\n",
    "    print(i)\n",
    "else:              #Else statement will execute only when the for loop will reach to it's end\n",
    "    print()\n",
    "    print('Job has been done')"
   ]
  },
  {
   "cell_type": "markdown",
   "id": "0382b0b9-d5b0-422f-9d00-8ff56ca922d3",
   "metadata": {},
   "source": [
    "# Break, Continue And Pass Statements"
   ]
  },
  {
   "cell_type": "code",
   "execution_count": 22,
   "id": "e02fc63e-677c-43af-b4f7-867e2f1aec9f",
   "metadata": {},
   "outputs": [
    {
     "name": "stdout",
     "output_type": "stream",
     "text": [
      "0\n",
      "1\n",
      "2\n",
      "3\n",
      "4\n",
      "5\n",
      "6\n",
      "7\n",
      "8\n"
     ]
    }
   ],
   "source": [
    "# Break statement will exit the loop on a given iteration\n",
    "\n",
    "for i in range (20):\n",
    "    if (i == 9):\n",
    "        break\n",
    "    print(i)"
   ]
  },
  {
   "cell_type": "code",
   "execution_count": 23,
   "id": "59ed7e80-cd6c-40e9-a36d-344c95627257",
   "metadata": {},
   "outputs": [
    {
     "name": "stdout",
     "output_type": "stream",
     "text": [
      "1\n",
      "2\n",
      "3\n",
      "4\n",
      "5\n",
      "6\n",
      "7\n",
      "8\n",
      "9\n",
      "11\n",
      "12\n",
      "13\n",
      "14\n",
      "15\n",
      "16\n",
      "17\n",
      "18\n",
      "19\n"
     ]
    }
   ],
   "source": [
    "# Continue will skip that specific iteration and then continue\n",
    "\n",
    "for i in range (1,20):\n",
    "    if (i == 10):\n",
    "        continue \n",
    "    print(i)"
   ]
  },
  {
   "cell_type": "code",
   "execution_count": 24,
   "id": "a07414e8-d38c-41ae-9b38-ba96ad95866d",
   "metadata": {},
   "outputs": [
    {
     "name": "stdout",
     "output_type": "stream",
     "text": [
      "Harry\n",
      "is\n",
      "my\n",
      "Friend\n"
     ]
    }
   ],
   "source": [
    "# Pass statement actually do nothing and pass the whole execution without doing anything\n",
    "\n",
    "l = ['Harry','is','my','Friend']\n",
    "\n",
    "for i in l:\n",
    "    pass\n",
    "\n",
    "i = 0\n",
    "while (i < len(l)):\n",
    "    print(l[i])\n",
    "    i += 1"
   ]
  },
  {
   "cell_type": "markdown",
   "id": "61379b64-b541-42ae-b7bf-fbb53c769762",
   "metadata": {},
   "source": [
    "# Practice Problems"
   ]
  },
  {
   "cell_type": "code",
   "execution_count": 25,
   "id": "72616da7-6a28-4d34-8c8e-101cdce1b0e2",
   "metadata": {},
   "outputs": [
    {
     "name": "stdin",
     "output_type": "stream",
     "text": [
      "Enter your number 5\n"
     ]
    },
    {
     "name": "stdout",
     "output_type": "stream",
     "text": [
      "Your given Number is: 5\n",
      "5 X 1 = 5\n",
      "5 X 2 = 10\n",
      "5 X 3 = 15\n",
      "5 X 4 = 20\n",
      "5 X 5 = 25\n",
      "5 X 6 = 30\n",
      "5 X 7 = 35\n",
      "5 X 8 = 40\n",
      "5 X 9 = 45\n",
      "5 X 10 = 50\n"
     ]
    }
   ],
   "source": [
    "# 1. Write a program to print multiplication table of a given number using for loop. \n",
    "\n",
    "i = int(input('Enter your number'))\n",
    "print(f'Your given Number is: {i}')\n",
    "\n",
    "for j in range(1,11):\n",
    "    print(f'{i} X {j} = {i * j}')\n"
   ]
  },
  {
   "cell_type": "code",
   "execution_count": null,
   "id": "4989c5bd-d406-45fe-91e5-48a19a0cbce1",
   "metadata": {},
   "outputs": [],
   "source": []
  },
  {
   "cell_type": "code",
   "execution_count": 26,
   "id": "ebc1f1a9-ebbf-490e-82f7-07b4164efbc9",
   "metadata": {},
   "outputs": [
    {
     "name": "stdout",
     "output_type": "stream",
     "text": [
      "Congratulations! You get the job Successfully with starting Salary of $200k:  Hasnain\n",
      "Congratulations! You get the job Successfully with starting Salary of $200k:  Harry\n"
     ]
    }
   ],
   "source": [
    "# 2. Write a program to greet all the person names stored in a list ‘l’ and which starts with S. \n",
    "\n",
    "l = ['Hasnain', 'Harry', 'Nobel', 'Prime']\n",
    "\n",
    "for i in l:\n",
    "    if (i.startswith('H')):\n",
    "        print('Congratulations! You get the job Successfully with starting Salary of $200k: ',i)"
   ]
  },
  {
   "cell_type": "code",
   "execution_count": null,
   "id": "9f9cd379-0c68-4458-abb3-b3ae0cf94845",
   "metadata": {},
   "outputs": [],
   "source": []
  },
  {
   "cell_type": "code",
   "execution_count": 27,
   "id": "dc333012-5163-4257-a896-80d45d9b0f8a",
   "metadata": {},
   "outputs": [
    {
     "name": "stdin",
     "output_type": "stream",
     "text": [
      "Enter your number 5\n"
     ]
    },
    {
     "name": "stdout",
     "output_type": "stream",
     "text": [
      "5 X 1 = 5\n",
      "5 X 2 = 10\n",
      "5 X 3 = 15\n",
      "5 X 4 = 20\n",
      "5 X 5 = 25\n",
      "5 X 6 = 30\n",
      "5 X 7 = 35\n",
      "5 X 8 = 40\n",
      "5 X 9 = 45\n",
      "5 X 10 = 50\n"
     ]
    }
   ],
   "source": [
    "# 3. Attempt problem 1 using while loop. \n",
    "\n",
    "i = int(input('Enter your number'))\n",
    "\n",
    "j = 1\n",
    "while (j<11):\n",
    "    print(f'{i} X {j} = {i * j}')\n",
    "    j += 1"
   ]
  },
  {
   "cell_type": "code",
   "execution_count": null,
   "id": "c043c8df-4ec2-43c1-870e-1c5ecc887a71",
   "metadata": {},
   "outputs": [],
   "source": []
  },
  {
   "cell_type": "code",
   "execution_count": 30,
   "id": "78af1cee-bea1-4cda-8487-6e145c4e4af1",
   "metadata": {},
   "outputs": [
    {
     "name": "stdin",
     "output_type": "stream",
     "text": [
      "Please Enter your Number 65\n"
     ]
    },
    {
     "name": "stdout",
     "output_type": "stream",
     "text": [
      "Number is not a Prime\n"
     ]
    }
   ],
   "source": [
    "# 4. Write a program to find whether a given number is prime or not. \n",
    "\n",
    "num = int(input('Please Enter your Number'))\n",
    "\n",
    "for i in range(2,num):\n",
    "    if (num%i) == 0:\n",
    "        print('Number is not a Prime')\n",
    "        break\n",
    "else:\n",
    "    print('Number is prime')"
   ]
  },
  {
   "cell_type": "code",
   "execution_count": null,
   "id": "d02bbc60-b80f-4e9e-99ab-b33ab9609020",
   "metadata": {},
   "outputs": [],
   "source": []
  },
  {
   "cell_type": "code",
   "execution_count": 1,
   "id": "4ec72009-4bca-4a9a-94f8-116f6c5c83c1",
   "metadata": {},
   "outputs": [
    {
     "name": "stdin",
     "output_type": "stream",
     "text": [
      "Enter your Number:  10\n"
     ]
    },
    {
     "name": "stdout",
     "output_type": "stream",
     "text": [
      "55\n"
     ]
    }
   ],
   "source": [
    "# 5. Write a program to find the sum of first n natural numbers using while loop. \n",
    "\n",
    "n = int(input('Enter your Number: '))\n",
    "\n",
    "i = 1\n",
    "Sum = 0\n",
    "while (i<=n):\n",
    "    Sum = Sum + i\n",
    "    i += 1\n",
    "print(Sum)"
   ]
  },
  {
   "cell_type": "code",
   "execution_count": null,
   "id": "82c40bea-b2a0-41a8-96be-24d748932d54",
   "metadata": {},
   "outputs": [],
   "source": []
  },
  {
   "cell_type": "code",
   "execution_count": 9,
   "id": "6353e106-e533-42e8-b397-945eddb43d58",
   "metadata": {},
   "outputs": [
    {
     "name": "stdin",
     "output_type": "stream",
     "text": [
      "Enter your Number:  5\n"
     ]
    },
    {
     "name": "stdout",
     "output_type": "stream",
     "text": [
      "The factorial of Given number is:  120\n"
     ]
    }
   ],
   "source": [
    "# 6. Write a program to calculate the factorial of a given number using for loop. \n",
    "\n",
    "num1 = int(input('Enter your Number: '))\n",
    "\n",
    "fact = 1\n",
    "for i in range(1,num1+1):\n",
    "    fact = fact * i\n",
    "    \n",
    "print('The factorial of Given number is: ',fact)\n",
    "\n",
    "# Factorial of 5 means....... 1 x 2 x 3 x 4 x 5"
   ]
  },
  {
   "cell_type": "code",
   "execution_count": null,
   "id": "04313fc5-6d14-43cc-83fb-c7aa8f176f94",
   "metadata": {},
   "outputs": [],
   "source": []
  },
  {
   "cell_type": "code",
   "execution_count": 15,
   "id": "9c14e1e4-9c5e-4cd7-8e3c-aabf5a5bb7bb",
   "metadata": {},
   "outputs": [
    {
     "name": "stdin",
     "output_type": "stream",
     "text": [
      "Enter your Number:  3\n"
     ]
    },
    {
     "name": "stdout",
     "output_type": "stream",
     "text": [
      "  *\n",
      " ***\n",
      "*****\n"
     ]
    }
   ],
   "source": [
    "# 7. Write a program to print the following star pattern\n",
    "\n",
    "n = int(input('Enter your Number: '))\n",
    "\n",
    "for i in range(1 , n+1):\n",
    "    print(' '*(n-i), end = '')\n",
    "    print('*' * (2*i-1), end = '')\n",
    "    print()"
   ]
  },
  {
   "cell_type": "code",
   "execution_count": null,
   "id": "c2a0c122-52e9-4d55-8e55-0da25a175dfb",
   "metadata": {},
   "outputs": [],
   "source": []
  },
  {
   "cell_type": "code",
   "execution_count": 19,
   "id": "c3b5e074-0bd7-4339-90a9-47a920b7704b",
   "metadata": {},
   "outputs": [
    {
     "name": "stdin",
     "output_type": "stream",
     "text": [
      "Enter your Number:  5\n"
     ]
    },
    {
     "name": "stdout",
     "output_type": "stream",
     "text": [
      "*\n",
      "**\n",
      "***\n",
      "****\n",
      "*****\n"
     ]
    }
   ],
   "source": [
    "# 8. Write a program to print the following star pattern: \n",
    "\n",
    "n1 = int(input('Enter your Number: '))\n",
    "\n",
    "for i in range(1 , n1+1):\n",
    "    print('*' * i, end = '')\n",
    "    print()"
   ]
  },
  {
   "cell_type": "code",
   "execution_count": null,
   "id": "4fb631bf-0bab-413c-a5bc-0cdc7dbc6fef",
   "metadata": {},
   "outputs": [],
   "source": []
  },
  {
   "cell_type": "code",
   "execution_count": 20,
   "id": "668ddfde-b6f9-46f8-8939-6fab2b58b74f",
   "metadata": {},
   "outputs": [
    {
     "name": "stdin",
     "output_type": "stream",
     "text": [
      "Enter your Number:  3\n"
     ]
    },
    {
     "name": "stdout",
     "output_type": "stream",
     "text": [
      "***\n",
      "* *\n",
      "***\n"
     ]
    }
   ],
   "source": [
    "# 9. Write a program to print the following star pattern. \n",
    "\n",
    "n = int(input('Enter your Number: '))\n",
    "\n",
    "for i in range(1 , n+1):\n",
    "    if (i==1 or i==n):\n",
    "        print('*'*n, end = '')\n",
    "    else:\n",
    "        print('*', end = '')\n",
    "        print(' '*(n-2), end = '')\n",
    "        print('*', end = '')\n",
    "    print('')"
   ]
  },
  {
   "cell_type": "code",
   "execution_count": null,
   "id": "e103fadc-97e5-4619-82de-a930f903b21b",
   "metadata": {},
   "outputs": [],
   "source": []
  },
  {
   "cell_type": "code",
   "execution_count": 5,
   "id": "508abc6a-efb4-4932-8734-52d4cbe16900",
   "metadata": {},
   "outputs": [
    {
     "name": "stdout",
     "output_type": "stream",
     "text": [
      "6 X 10 = 60\n",
      "6 X 9 = 54\n",
      "6 X 8 = 48\n",
      "6 X 7 = 42\n",
      "6 X 6 = 36\n",
      "6 X 5 = 30\n",
      "6 X 4 = 24\n",
      "6 X 3 = 18\n",
      "6 X 2 = 12\n",
      "6 X 1 = 6\n"
     ]
    }
   ],
   "source": [
    "# 10. Write a program to print multiplication table of n using for loops in reversed order.\n",
    "\n",
    "\n",
    "j = 6\n",
    "for i in range(1,11):\n",
    "    print(f'{j} X {11-i} = {j*(11-i)}')"
   ]
  },
  {
   "cell_type": "code",
   "execution_count": 6,
   "id": "fbd8b665-59c9-4644-95eb-a86db1c771ea",
   "metadata": {},
   "outputs": [
    {
     "name": "stdout",
     "output_type": "stream",
     "text": [
      "6 X 10 = 60\n",
      "6 X 9 = 54\n",
      "6 X 8 = 48\n",
      "6 X 7 = 42\n",
      "6 X 6 = 36\n",
      "6 X 5 = 30\n",
      "6 X 4 = 24\n",
      "6 X 3 = 18\n",
      "6 X 2 = 12\n",
      "6 X 1 = 6\n"
     ]
    }
   ],
   "source": [
    "# Solving Problem 10 (Alternative Method)\n",
    "\n",
    "j = 6\n",
    "z = [10,9,8,7,6,5,4,3,2,1]\n",
    "for i in z:\n",
    "    print(f'{j} X {i} = {j*i}')"
   ]
  },
  {
   "cell_type": "code",
   "execution_count": 4,
   "id": "f352baaa-4e42-4b61-ac21-fc0f14f1f6c4",
   "metadata": {},
   "outputs": [],
   "source": []
  },
  {
   "cell_type": "code",
   "execution_count": null,
   "id": "d86b8b33-a418-4cfa-9894-a683b0f65445",
   "metadata": {},
   "outputs": [],
   "source": []
  }
 ],
 "metadata": {
  "kernelspec": {
   "display_name": "Python 3 (ipykernel)",
   "language": "python",
   "name": "python3"
  },
  "language_info": {
   "codemirror_mode": {
    "name": "ipython",
    "version": 3
   },
   "file_extension": ".py",
   "mimetype": "text/x-python",
   "name": "python",
   "nbconvert_exporter": "python",
   "pygments_lexer": "ipython3",
   "version": "3.13.7"
  }
 },
 "nbformat": 4,
 "nbformat_minor": 5
}
