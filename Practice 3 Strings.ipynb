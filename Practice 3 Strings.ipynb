{
 "cells": [
  {
   "cell_type": "markdown",
   "id": "0d40c098-1ea0-4d37-9e16-4a584c9786f6",
   "metadata": {},
   "source": [
    "# Strings\n",
    "Strings are Immutable (We can't change even a single character of the string)"
   ]
  },
  {
   "cell_type": "markdown",
   "id": "3eb9d390-d357-411b-8a26-6711ed273296",
   "metadata": {},
   "source": [
    "# list of the most used functions of string in python"
   ]
  },
  {
   "cell_type": "code",
   "execution_count": 1,
   "id": "a22bfae8-d878-43f6-865d-22004cf3d015",
   "metadata": {},
   "outputs": [
    {
     "data": {
      "text/plain": [
       "'🔹 Basic String Methods\\n\\nlen(s) → Returns the length of the string.\\n\\nstr() → Converts values into a string.\\n\\ns.lower() → Converts all characters to lowercase.\\n\\ns.upper() → Converts all characters to uppercase.\\n\\ns.capitalize() → Capitalizes the first character.\\n\\ns.title() → Capitalizes the first letter of each word.\\n\\ns.strip() → Removes leading and trailing spaces.\\n\\ns.lstrip() → Removes leading spaces.\\n\\ns.rstrip() → Removes trailing spaces.\\n\\n🔹 Search & Replace\\n\\ns.find(sub) → Returns the index of the first occurrence, -1 if not found.\\n\\ns.rfind(sub) → Returns the last occurrence index.\\n\\ns.index(sub) → Like find, but raises an error if not found.\\n\\ns.replace(old, new) → Replaces all occurrences of a substring.\\n\\ns.count(sub) → Counts how many times a substring appears.\\n\\n🔹 Checking Content\\n\\ns.startswith(sub) → Checks if string starts with substring.\\n\\ns.endswith(sub) → Checks if string ends with substring.\\n\\ns.isalpha() → Returns True if all characters are letters.\\n\\ns.isdigit() → Returns True if all characters are digits.\\n\\ns.isalnum() → Returns True if all characters are letters/numbers.\\n\\ns.isspace() → Returns True if only spaces.\\n\\ns.islower() → Checks if all characters are lowercase.\\n\\ns.isupper() → Checks if all characters are uppercase.\\n\\n🔹 Splitting & Joining\\n\\ns.split() → Splits string into a list (default by spaces).\\n\\ns.split(\",\") → Splits string by a delimiter.\\n\\ns.rsplit() → Splits from the right side.\\n\\ns.partition(sep) → Splits into 3 parts: before, separator, after.\\n\\ns.join(list) → Joins elements of a list into a string.\\n\\n🔹 Formatting\\n\\ns.center(width) → Centers text with padding.\\n\\ns.ljust(width) → Left aligns with padding.\\n\\ns.rjust(width) → Right aligns with padding.\\n\\ns.zfill(width) → Pads with zeros in front.\\n\\ns.format() → String formatting.\\n\\nf\"{}\" → Modern f-string formatting.'"
      ]
     },
     "execution_count": 1,
     "metadata": {},
     "output_type": "execute_result"
    }
   ],
   "source": [
    "# These Functions are generated through Chatgpt, You can use chatgpt for your better performance in coding\n",
    "\n",
    "'''🔹 Basic String Methods\n",
    "\n",
    "len(s) → Returns the length of the string.\n",
    "\n",
    "str() → Converts values into a string.\n",
    "\n",
    "s.lower() → Converts all characters to lowercase.\n",
    "\n",
    "s.upper() → Converts all characters to uppercase.\n",
    "\n",
    "s.capitalize() → Capitalizes the first character.\n",
    "\n",
    "s.title() → Capitalizes the first letter of each word.\n",
    "\n",
    "s.strip() → Removes leading and trailing spaces.\n",
    "\n",
    "s.lstrip() → Removes leading spaces.\n",
    "\n",
    "s.rstrip() → Removes trailing spaces.\n",
    "\n",
    "🔹 Search & Replace\n",
    "\n",
    "s.find(sub) → Returns the index of the first occurrence, -1 if not found.\n",
    "\n",
    "s.rfind(sub) → Returns the last occurrence index.\n",
    "\n",
    "s.index(sub) → Like find, but raises an error if not found.\n",
    "\n",
    "s.replace(old, new) → Replaces all occurrences of a substring.\n",
    "\n",
    "s.count(sub) → Counts how many times a substring appears.\n",
    "\n",
    "🔹 Checking Content\n",
    "\n",
    "s.startswith(sub) → Checks if string starts with substring.\n",
    "\n",
    "s.endswith(sub) → Checks if string ends with substring.\n",
    "\n",
    "s.isalpha() → Returns True if all characters are letters.\n",
    "\n",
    "s.isdigit() → Returns True if all characters are digits.\n",
    "\n",
    "s.isalnum() → Returns True if all characters are letters/numbers.\n",
    "\n",
    "s.isspace() → Returns True if only spaces.\n",
    "\n",
    "s.islower() → Checks if all characters are lowercase.\n",
    "\n",
    "s.isupper() → Checks if all characters are uppercase.\n",
    "\n",
    "🔹 Splitting & Joining\n",
    "\n",
    "s.split() → Splits string into a list (default by spaces).\n",
    "\n",
    "s.split(\",\") → Splits string by a delimiter.\n",
    "\n",
    "s.rsplit() → Splits from the right side.\n",
    "\n",
    "s.partition(sep) → Splits into 3 parts: before, separator, after.\n",
    "\n",
    "s.join(list) → Joins elements of a list into a string.\n",
    "\n",
    "🔹 Formatting\n",
    "\n",
    "s.center(width) → Centers text with padding.\n",
    "\n",
    "s.ljust(width) → Left aligns with padding.\n",
    "\n",
    "s.rjust(width) → Right aligns with padding.\n",
    "\n",
    "s.zfill(width) → Pads with zeros in front.\n",
    "\n",
    "s.format() → String formatting.\n",
    "\n",
    "f\"{}\" → Modern f-string formatting.'''"
   ]
  },
  {
   "cell_type": "code",
   "execution_count": 2,
   "id": "47148140-23df-4c12-9ac7-f54bfc883bee",
   "metadata": {},
   "outputs": [
    {
     "name": "stdout",
     "output_type": "stream",
     "text": [
      "name is Hasnain\n"
     ]
    }
   ],
   "source": [
    "# Slicing\n",
    "name = 'my name is Hasnain'\n",
    "\n",
    "# First number is included, but the second number is excluded\n",
    "print(name[3:18])"
   ]
  },
  {
   "cell_type": "code",
   "execution_count": 3,
   "id": "8ba6bdff-83d5-427d-8844-81632886393b",
   "metadata": {},
   "outputs": [
    {
     "data": {
      "text/plain": [
       "'n'"
      ]
     },
     "execution_count": 3,
     "metadata": {},
     "output_type": "execute_result"
    }
   ],
   "source": [
    "name[3]"
   ]
  },
  {
   "cell_type": "code",
   "execution_count": 4,
   "id": "3f6cae77-3dca-4ed4-878b-bebb57466c16",
   "metadata": {},
   "outputs": [
    {
     "name": "stdout",
     "output_type": "stream",
     "text": [
      " name is\n"
     ]
    }
   ],
   "source": [
    "print(name[-16:-8])"
   ]
  },
  {
   "cell_type": "code",
   "execution_count": 5,
   "id": "be0092c7-fc6a-4a15-98e3-81fc26e20258",
   "metadata": {},
   "outputs": [
    {
     "data": {
      "text/plain": [
       "'ksuM nolE'"
      ]
     },
     "execution_count": 5,
     "metadata": {},
     "output_type": "execute_result"
    }
   ],
   "source": [
    "name1 = 'Elon Musk'\n",
    "name1[::-1]"
   ]
  },
  {
   "cell_type": "code",
   "execution_count": 6,
   "id": "0b4faa0e-a0c3-49ba-a50a-4645aedd06df",
   "metadata": {},
   "outputs": [
    {
     "name": "stdout",
     "output_type": "stream",
     "text": [
      "m aei ani\n"
     ]
    }
   ],
   "source": [
    "print(name[::2])"
   ]
  },
  {
   "cell_type": "markdown",
   "id": "86cbee21-381f-4016-bd78-a7584b57b2f3",
   "metadata": {},
   "source": [
    "# Some New Features\n",
    "You can check in ChatGPT, what their use is in Python"
   ]
  },
  {
   "cell_type": "code",
   "execution_count": 7,
   "id": "cc28ff87-6cc3-4827-8669-3b85d6360a49",
   "metadata": {},
   "outputs": [
    {
     "data": {
      "text/plain": [
       "True"
      ]
     },
     "execution_count": 7,
     "metadata": {},
     "output_type": "execute_result"
    }
   ],
   "source": [
    "name.endswith('Hasnain')"
   ]
  },
  {
   "cell_type": "code",
   "execution_count": 8,
   "id": "3879cd95-6887-403d-b89c-5c8fa0951c28",
   "metadata": {},
   "outputs": [
    {
     "data": {
      "text/plain": [
       "False"
      ]
     },
     "execution_count": 8,
     "metadata": {},
     "output_type": "execute_result"
    }
   ],
   "source": [
    "name.endswith('Shelby')"
   ]
  },
  {
   "cell_type": "code",
   "execution_count": 9,
   "id": "23845030-8c42-4780-86bb-443e756c8f58",
   "metadata": {},
   "outputs": [
    {
     "data": {
      "text/plain": [
       "True"
      ]
     },
     "execution_count": 9,
     "metadata": {},
     "output_type": "execute_result"
    }
   ],
   "source": [
    "name.startswith('my')"
   ]
  },
  {
   "cell_type": "code",
   "execution_count": 10,
   "id": "f416ff6f-a7af-48f1-804d-a60a5bb6645b",
   "metadata": {},
   "outputs": [
    {
     "data": {
      "text/plain": [
       "False"
      ]
     },
     "execution_count": 10,
     "metadata": {},
     "output_type": "execute_result"
    }
   ],
   "source": [
    "name.startswith('you')"
   ]
  },
  {
   "cell_type": "code",
   "execution_count": 11,
   "id": "a7d096f5-8125-4973-87d7-18edfd9f8131",
   "metadata": {},
   "outputs": [
    {
     "name": "stdout",
     "output_type": "stream",
     "text": [
      "My name is hasnain\n"
     ]
    }
   ],
   "source": [
    "print(name.capitalize())"
   ]
  },
  {
   "cell_type": "code",
   "execution_count": 12,
   "id": "85eb248a-0b1a-4b58-b06b-13f2328b084c",
   "metadata": {},
   "outputs": [
    {
     "data": {
      "text/plain": [
       "'My Name Is Hasnain'"
      ]
     },
     "execution_count": 12,
     "metadata": {},
     "output_type": "execute_result"
    }
   ],
   "source": [
    "name.title()"
   ]
  },
  {
   "cell_type": "code",
   "execution_count": 13,
   "id": "e8e0ba45-6ce9-4ce7-a707-d693cf8bad81",
   "metadata": {},
   "outputs": [
    {
     "data": {
      "text/plain": [
       "'my name is Yousaf'"
      ]
     },
     "execution_count": 13,
     "metadata": {},
     "output_type": "execute_result"
    }
   ],
   "source": [
    "name.replace('Hasnain','Yousaf')"
   ]
  },
  {
   "cell_type": "markdown",
   "id": "18852a50-7968-4150-9725-5f2ad00c6367",
   "metadata": {},
   "source": [
    "# Escape Sequence Character"
   ]
  },
  {
   "cell_type": "code",
   "execution_count": 14,
   "id": "13d4bb5d-7d08-4fa1-910f-82e021832826",
   "metadata": {},
   "outputs": [
    {
     "name": "stdout",
     "output_type": "stream",
     "text": [
      "My hobby i to play 'badminton',\n",
      " and Pubg in my \n",
      "  free time\n"
     ]
    }
   ],
   "source": [
    "# \\n (For newlinw)\n",
    "\n",
    "Name = \"My hobby i to play 'badminton',\\n and Pubg in my \\n  free time\"\n",
    "print(Name)"
   ]
  },
  {
   "cell_type": "code",
   "execution_count": 15,
   "id": "358737b8-89ae-45fe-bc9c-3e3af795f714",
   "metadata": {},
   "outputs": [
    {
     "name": "stdout",
     "output_type": "stream",
     "text": [
      "My name is Hasnain, and I live in \"Germany\"\n"
     ]
    }
   ],
   "source": [
    "# |\"  \\\" (For Double Quotes in string)\n",
    "\n",
    "My =\"My name is Hasnain, and I live in \\\"Germany\\\"\"\n",
    "print(My)"
   ]
  },
  {
   "cell_type": "code",
   "execution_count": 16,
   "id": "0e4ca4e4-8be9-4d6d-a127-6fad19d8e122",
   "metadata": {},
   "outputs": [
    {
     "name": "stdout",
     "output_type": "stream",
     "text": [
      "Yes You look like \t Thomas Shelby\n"
     ]
    }
   ],
   "source": [
    "# \\t (For tab in string)\n",
    "\n",
    "Your = 'Yes You look like \\t Thomas Shelby'\n",
    "print(Your)"
   ]
  },
  {
   "cell_type": "markdown",
   "id": "b722322e-ae56-4ad8-bd32-389c83f38a11",
   "metadata": {},
   "source": [
    "# Practice Problems"
   ]
  },
  {
   "cell_type": "code",
   "execution_count": 1,
   "id": "7771fb23-70a5-4def-b4cf-f7e7d3cd1847",
   "metadata": {},
   "outputs": [
    {
     "name": "stdin",
     "output_type": "stream",
     "text": [
      "Please Enter Your Name Hasnain\n"
     ]
    },
    {
     "name": "stdout",
     "output_type": "stream",
     "text": [
      "Good Afternoon, Hasnain \n"
     ]
    }
   ],
   "source": [
    "# Write a python program to display a user entered name followed by Good Afternoon using input () function. \n",
    "my_name = (input('Please Enter Your Name'))\n",
    "print(f'Good Afternoon, {my_name} ')"
   ]
  },
  {
   "cell_type": "code",
   "execution_count": 13,
   "id": "1bbe574d-c3fe-4dd7-9d94-7d8bfebc88d5",
   "metadata": {},
   "outputs": [
    {
     "name": "stdout",
     "output_type": "stream",
     "text": [
      "\n",
      "            Dear = Hasnain\n",
      "                You are selected!\n",
      "            Date = 14-09-2028\n",
      "            \n"
     ]
    }
   ],
   "source": [
    "# Write a program to fill in a letter template given below with name and date.\n",
    "\n",
    "letter = '''\n",
    "            Dear = <|Name|>\n",
    "                You are selected!\n",
    "            Date = <|Date|>\n",
    "            '''\n",
    "\n",
    "print(letter.replace('<|Name|>', 'Hasnain').replace('<|Date|>', '14-09-2028'))"
   ]
  },
  {
   "cell_type": "code",
   "execution_count": 16,
   "id": "fe751589-a2b7-4e00-bccc-1f7aacd2f123",
   "metadata": {},
   "outputs": [
    {
     "name": "stdout",
     "output_type": "stream",
     "text": [
      "4\n",
      "-1\n"
     ]
    }
   ],
   "source": [
    "# Write a program to detect double space in a string, And if there is -1 as a result, that shows the word you've entered is no longer in the String\n",
    "\n",
    "space = 'This  sentence has  multiple double  spaces  '\n",
    "print(space.find(\"  \"))\n",
    "print(space.find('Xyz'))"
   ]
  },
  {
   "cell_type": "code",
   "execution_count": 17,
   "id": "3db6a3bc-8ad9-4829-8fcb-c23cd19636e7",
   "metadata": {},
   "outputs": [
    {
     "data": {
      "text/plain": [
       "'This sentence has multiple double spaces '"
      ]
     },
     "execution_count": 17,
     "metadata": {},
     "output_type": "execute_result"
    }
   ],
   "source": [
    "# Replace the double space from problem 3 with single spaces. \n",
    "\n",
    "space.replace('  ',' ')"
   ]
  },
  {
   "cell_type": "code",
   "execution_count": 2,
   "id": "f1c894e4-2780-4830-bdb5-35df53bcdb17",
   "metadata": {},
   "outputs": [
    {
     "name": "stdout",
     "output_type": "stream",
     "text": [
      "move abroad, I mean Germany is the best place to move,\n",
      " \t and always remember one thing,\n",
      " you have to have tough skin to become star.\n"
     ]
    }
   ],
   "source": [
    "# Write a program to format the following letter using escape sequence characters. \n",
    "\n",
    "escape = 'move abroad, I mean Germany is the best place to move,\\n \\t and always remember one thing,\\n you have to have tough skin to become star.'\n",
    "print(escape)"
   ]
  },
  {
   "cell_type": "code",
   "execution_count": null,
   "id": "e37aab1b-1651-4686-833d-c49cd3aefc1b",
   "metadata": {},
   "outputs": [],
   "source": []
  }
 ],
 "metadata": {
  "kernelspec": {
   "display_name": "Python 3 (ipykernel)",
   "language": "python",
   "name": "python3"
  },
  "language_info": {
   "codemirror_mode": {
    "name": "ipython",
    "version": 3
   },
   "file_extension": ".py",
   "mimetype": "text/x-python",
   "name": "python",
   "nbconvert_exporter": "python",
   "pygments_lexer": "ipython3",
   "version": "3.13.7"
  }
 },
 "nbformat": 4,
 "nbformat_minor": 5
}
