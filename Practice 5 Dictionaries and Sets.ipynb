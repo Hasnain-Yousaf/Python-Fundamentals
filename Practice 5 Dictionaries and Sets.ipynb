{
 "cells": [
  {
   "cell_type": "markdown",
   "id": "9016b06e-f679-4e9d-8f30-35f936f6d2b0",
   "metadata": {},
   "source": [
    "# Dictionary\n",
    "PROPERTIES OF PYTHON DICTIONARIES \n",
    "1. It is unordered. \n",
    "2. It is mutable. \n",
    "3. It is indexed. \n",
    "4. Cannot contain duplicate keys."
   ]
  },
  {
   "cell_type": "code",
   "execution_count": 9,
   "id": "fbaf727d-83f0-477a-92a8-0fd7a149977b",
   "metadata": {},
   "outputs": [
    {
     "name": "stdout",
     "output_type": "stream",
     "text": [
      "<class 'dict'>\n"
     ]
    }
   ],
   "source": [
    "d = {}\n",
    "print(type(d))"
   ]
  },
  {
   "cell_type": "code",
   "execution_count": 1,
   "id": "1a4a266f-eadd-4bc9-ab1a-d020c032dccf",
   "metadata": {},
   "outputs": [],
   "source": [
    "marks = {'Hasnain':100,\n",
    "        'Salar':98,\n",
    "        'Pushpa':87,\n",
    "        'Rocky':96\n",
    "        }"
   ]
  },
  {
   "cell_type": "code",
   "execution_count": 2,
   "id": "763f3965-5dcb-4f4a-a635-c1a4656f65fd",
   "metadata": {},
   "outputs": [
    {
     "name": "stdout",
     "output_type": "stream",
     "text": [
      "{'Hasnain': 100, 'Salar': 98, 'Pushpa': 87, 'Rocky': 96} <class 'dict'>\n"
     ]
    }
   ],
   "source": [
    "print(marks, type(marks))"
   ]
  },
  {
   "cell_type": "markdown",
   "id": "271161d6-0b8a-419b-802f-1f023a289240",
   "metadata": {},
   "source": [
    "# Dictionary Methods\n",
    "      a.items(): Returns a list of (key,value)tuples. \n",
    "      a.keys(): Returns a list containing dictionary's keys. \n",
    "      a.update({\"friends\":}): Updates the dictionary with supplied key-value pairs. \n",
    "      a.get(\"name\"): Returns the value of the specified keys (and value is returned \n",
    "      eg.\"harry\" is returned here)."
   ]
  },
  {
   "cell_type": "code",
   "execution_count": 3,
   "id": "0a04fdbd-d0a6-4b9b-b9ac-afce8349097e",
   "metadata": {},
   "outputs": [
    {
     "data": {
      "text/plain": [
       "dict_keys(['Hasnain', 'Salar', 'Pushpa', 'Rocky'])"
      ]
     },
     "execution_count": 3,
     "metadata": {},
     "output_type": "execute_result"
    }
   ],
   "source": [
    "marks.keys()"
   ]
  },
  {
   "cell_type": "code",
   "execution_count": 4,
   "id": "8a75f961-8196-487b-b9de-cc106ba417b4",
   "metadata": {},
   "outputs": [
    {
     "data": {
      "text/plain": [
       "dict_values([100, 98, 87, 96])"
      ]
     },
     "execution_count": 4,
     "metadata": {},
     "output_type": "execute_result"
    }
   ],
   "source": [
    "marks.values()"
   ]
  },
  {
   "cell_type": "code",
   "execution_count": 6,
   "id": "e825b90b-9764-4673-8e88-654dd46522a0",
   "metadata": {},
   "outputs": [
    {
     "data": {
      "text/plain": [
       "dict_items([('Hasnain', 100), ('Salar', 98), ('Pushpa', 87), ('Rocky', 96)])"
      ]
     },
     "execution_count": 6,
     "metadata": {},
     "output_type": "execute_result"
    }
   ],
   "source": [
    "marks.items()"
   ]
  },
  {
   "cell_type": "code",
   "execution_count": 5,
   "id": "1f4baf1d-c4fa-4e15-bb3f-084122832fbd",
   "metadata": {},
   "outputs": [
    {
     "name": "stdout",
     "output_type": "stream",
     "text": [
      "100\n"
     ]
    }
   ],
   "source": [
    "print(marks['Hasnain'])"
   ]
  },
  {
   "cell_type": "code",
   "execution_count": 9,
   "id": "6ced1f01-d6b9-4feb-b13f-c9eaee54a6f7",
   "metadata": {},
   "outputs": [
    {
     "name": "stdout",
     "output_type": "stream",
     "text": [
      "{'Hasnain': 99, 'Salar': 98, 'Pushpa': 87, 'Rocky': 96, 'Specter': 98.5}\n"
     ]
    }
   ],
   "source": [
    "marks.update({'Hasnain':99, 'Specter':98.5})\n",
    "print(marks)"
   ]
  },
  {
   "cell_type": "code",
   "execution_count": 19,
   "id": "b48112b9-ace0-445a-ad8e-72a867f5bdc8",
   "metadata": {},
   "outputs": [
    {
     "data": {
      "text/plain": [
       "5"
      ]
     },
     "execution_count": 19,
     "metadata": {},
     "output_type": "execute_result"
    }
   ],
   "source": [
    "len(marks)"
   ]
  },
  {
   "cell_type": "code",
   "execution_count": 10,
   "id": "b3d4fb24-ca00-497e-9a7f-7653dcf0b5c5",
   "metadata": {},
   "outputs": [
    {
     "data": {
      "text/plain": [
       "99"
      ]
     },
     "execution_count": 10,
     "metadata": {},
     "output_type": "execute_result"
    }
   ],
   "source": [
    "marks.get('Hasnain')"
   ]
  },
  {
   "cell_type": "markdown",
   "id": "6756dbb4-8a74-4538-a7bb-21e197c24149",
   "metadata": {},
   "source": [
    "# Sets\n",
    "    Sets are Mutable\n",
    "PROPERTIES OF SETS \n",
    "1. Sets are unordered => Element’s order doesn’t matter \n",
    "2. Sets are unindexed => Cannot access elements by index \n",
    "3. There is no way to change items in sets. \n",
    "4. Sets cannot contain duplicate values."
   ]
  },
  {
   "cell_type": "code",
   "execution_count": 13,
   "id": "f7b647ab-c2b9-465a-abe4-5bea72bec7d8",
   "metadata": {},
   "outputs": [
    {
     "name": "stdout",
     "output_type": "stream",
     "text": [
      "<class 'set'>\n",
      "<class 'set'>\n"
     ]
    }
   ],
   "source": [
    "s = {()}\n",
    "s1 = set()\n",
    "print(type(s))\n",
    "print(type(s1))"
   ]
  },
  {
   "cell_type": "code",
   "execution_count": 14,
   "id": "c6df5447-fe9b-4752-aaa6-e6285e3c1841",
   "metadata": {},
   "outputs": [
    {
     "name": "stdout",
     "output_type": "stream",
     "text": [
      "{1, 4, 5, 6, 7, 23}\n"
     ]
    }
   ],
   "source": [
    "d = {1,23,4,5,6,7,7}\n",
    "print(d)"
   ]
  },
  {
   "cell_type": "markdown",
   "id": "6eb8ff8e-5c9a-43a1-bece-82db129b0559",
   "metadata": {},
   "source": [
    "# Operations on SETS\n",
    "    len(s): Returns 4, the length of the set  \n",
    "    s.remove(8): Updates the set s and removes 8 from s. \n",
    "    s.pop(): Removes an arbitrary element from the set and return the element \n",
    "    removed. \n",
    "    s.clear():empties the set s. \n",
    "    s.union({8,11}): Returns a new set with all items from both sets. {1,8,2,3,11}. \n",
    "    s.intersection({8,11}): Return a set which contains only item in both sets  {8}. "
   ]
  },
  {
   "cell_type": "code",
   "execution_count": 20,
   "id": "4814c6e2-01ec-4c9b-a3ad-51d3ae7df4cc",
   "metadata": {},
   "outputs": [
    {
     "name": "stdout",
     "output_type": "stream",
     "text": [
      "{1, 7666, 4, 5, 6, 7, 23}\n"
     ]
    }
   ],
   "source": [
    "d.add(7666)\n",
    "print(d)"
   ]
  },
  {
   "cell_type": "code",
   "execution_count": 21,
   "id": "1e45c1a5-0919-4207-95be-e5b97e4158f4",
   "metadata": {},
   "outputs": [
    {
     "name": "stdout",
     "output_type": "stream",
     "text": [
      "{1, 2, 3, 4, 6, 7}\n"
     ]
    }
   ],
   "source": [
    "set1 = {1,2,3,4}\n",
    "set2= {1,2,7,6}\n",
    "print(set1.union(set2))"
   ]
  },
  {
   "cell_type": "code",
   "execution_count": 22,
   "id": "53cfff2f-d9f1-4c77-92da-b11d7bd09cea",
   "metadata": {},
   "outputs": [
    {
     "name": "stdout",
     "output_type": "stream",
     "text": [
      "{1, 2}\n"
     ]
    }
   ],
   "source": [
    "print(set1.intersection(set2))"
   ]
  },
  {
   "cell_type": "code",
   "execution_count": 23,
   "id": "aa668af6-dfa4-4d8d-8441-05ecddd3fb26",
   "metadata": {},
   "outputs": [
    {
     "name": "stdout",
     "output_type": "stream",
     "text": [
      "True\n"
     ]
    }
   ],
   "source": [
    "s3 = {1,2}\n",
    "print(s3.issubset(set2))"
   ]
  },
  {
   "cell_type": "code",
   "execution_count": 24,
   "id": "f7de4236-7f2c-40c7-9d22-661f3f670550",
   "metadata": {},
   "outputs": [
    {
     "name": "stdout",
     "output_type": "stream",
     "text": [
      "True\n"
     ]
    }
   ],
   "source": [
    "print(set2.issuperset(s3))"
   ]
  },
  {
   "cell_type": "markdown",
   "id": "6f2d1fa6-f544-4140-9a4a-c45c8e1c9ab2",
   "metadata": {},
   "source": [
    "# Problems"
   ]
  },
  {
   "cell_type": "code",
   "execution_count": 3,
   "id": "59a63f6e-d5f2-4ba8-a5da-e0c90b99ea89",
   "metadata": {},
   "outputs": [
    {
     "name": "stdin",
     "output_type": "stream",
     "text": [
      "Enter the word you want to translate:  Va Va Voom\n"
     ]
    },
    {
     "name": "stdout",
     "output_type": "stream",
     "text": [
      "Extraordinary\n"
     ]
    }
   ],
   "source": [
    "# Write a program to create a dictionary of Urdu words with values as their English translation. Provide user with an option to look it up! \n",
    "\n",
    "words = {\n",
    "    'madad':'Help',\n",
    "    'Va Va Voom':'Extraordinary',\n",
    "    'Practice':'Mashaq',\n",
    "    'Kursi':'Chair'\n",
    "}\n",
    "\n",
    "word = input('Enter the word you want to translate: ')\n",
    "print(words[word])"
   ]
  },
  {
   "cell_type": "code",
   "execution_count": 5,
   "id": "218bcaa3-3eec-4851-a789-2c337757a528",
   "metadata": {},
   "outputs": [
    {
     "name": "stdout",
     "output_type": "stream",
     "text": [
      "{18, '18'}\n"
     ]
    }
   ],
   "source": [
    "# Can we have a set with 18 (int) and '18' (str) as a value in it?\n",
    "\n",
    "my_set = {18,'18'}\n",
    "print(my_set)"
   ]
  },
  {
   "cell_type": "code",
   "execution_count": 8,
   "id": "d4e8d025-a586-4cce-a6e2-34b56b7f4cba",
   "metadata": {},
   "outputs": [
    {
     "name": "stdout",
     "output_type": "stream",
     "text": [
      "{'20', 20} 2\n"
     ]
    }
   ],
   "source": [
    "# What will be the length of following set s:\n",
    "\n",
    "s = set()\n",
    "s.add(20)\n",
    "s.add(20.0)\n",
    "s.add('20')\n",
    "print(s,len(s))"
   ]
  },
  {
   "cell_type": "code",
   "execution_count": 11,
   "id": "64a92785-a138-4fd4-a683-79c6cd0035cc",
   "metadata": {},
   "outputs": [
    {
     "name": "stdin",
     "output_type": "stream",
     "text": [
      "Enter your friend's name Hasnain\n",
      "Enter his language Python\n",
      "Enter your friend's name Saleem\n",
      "Enter his language Java\n",
      "Enter your friend's name Naeem\n",
      "Enter his language Rust\n",
      "Enter your friend's name Specter\n",
      "Enter his language C++\n"
     ]
    },
    {
     "name": "stdout",
     "output_type": "stream",
     "text": [
      "{'Hasnain': 'Python', 'Saleem': 'Java', 'Naeem': 'Rust', 'Specter': 'C++'}\n"
     ]
    }
   ],
   "source": [
    "# Create an empty dictionary. Allow 4 friends to enter their favorite language as value and use key as their names. Assume that the names are unique. \n",
    "\n",
    "d = {}\n",
    "name = input(\"Enter your friend's name\")\n",
    "lang = input('Enter his language')\n",
    "d.update({name:lang})\n",
    "\n",
    "name = input(\"Enter your friend's name\")\n",
    "lang = input('Enter his language')\n",
    "d.update({name:lang})\n",
    "\n",
    "name = input(\"Enter your friend's name\")\n",
    "lang = input('Enter his language')\n",
    "d.update({name:lang})\n",
    "\n",
    "name = input(\"Enter your friend's name\")\n",
    "lang = input('Enter his language')\n",
    "d.update({name:lang})\n",
    "\n",
    "print(d)"
   ]
  },
  {
   "cell_type": "code",
   "execution_count": 13,
   "id": "8696e2df-806f-4d17-866b-07c09fbe38b7",
   "metadata": {},
   "outputs": [
    {
     "ename": "TypeError",
     "evalue": "unhashable type: 'list'",
     "output_type": "error",
     "traceback": [
      "\u001b[1;31m---------------------------------------------------------------------------\u001b[0m",
      "\u001b[1;31mTypeError\u001b[0m                                 Traceback (most recent call last)",
      "Cell \u001b[1;32mIn[13], line 1\u001b[0m\n\u001b[1;32m----> 1\u001b[0m sd \u001b[38;5;241m=\u001b[39m {\u001b[38;5;241m1\u001b[39m,\u001b[38;5;241m2\u001b[39m,\u001b[38;5;124m'\u001b[39m\u001b[38;5;124mHasnain\u001b[39m\u001b[38;5;124m'\u001b[39m,\u001b[38;5;241m4\u001b[39m,[\u001b[38;5;241m6\u001b[39m,\u001b[38;5;241m8\u001b[39m]}\n",
      "\u001b[1;31mTypeError\u001b[0m: unhashable type: 'list'"
     ]
    }
   ],
   "source": [
    "# Can you change the values inside a list which is contained in set S?\n",
    "\n",
    "sd = {1,2,'Hasnain',4,[6,8]}"
   ]
  },
  {
   "cell_type": "code",
   "execution_count": null,
   "id": "1d7c149b-db61-48b9-8ad8-42709e287eda",
   "metadata": {},
   "outputs": [],
   "source": []
  }
 ],
 "metadata": {
  "kernelspec": {
   "display_name": "Python 3 (ipykernel)",
   "language": "python",
   "name": "python3"
  },
  "language_info": {
   "codemirror_mode": {
    "name": "ipython",
    "version": 3
   },
   "file_extension": ".py",
   "mimetype": "text/x-python",
   "name": "python",
   "nbconvert_exporter": "python",
   "pygments_lexer": "ipython3",
   "version": "3.13.7"
  }
 },
 "nbformat": 4,
 "nbformat_minor": 5
}
