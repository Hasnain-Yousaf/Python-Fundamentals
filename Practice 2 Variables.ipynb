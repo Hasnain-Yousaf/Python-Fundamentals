{
 "cells": [
  {
   "cell_type": "code",
   "execution_count": 7,
   "id": "42e5404e-1d07-4379-be54-fd035172a579",
   "metadata": {},
   "outputs": [],
   "source": [
    "# Writting Different Data Types"
   ]
  },
  {
   "cell_type": "code",
   "execution_count": 1,
   "id": "029f8800-522c-4a40-a77e-f015b89e5b63",
   "metadata": {},
   "outputs": [
    {
     "name": "stdout",
     "output_type": "stream",
     "text": [
      "1 , True\n"
     ]
    }
   ],
   "source": [
    "a = 0 or 1\n",
    "b = True or False\n",
    "print(a,\",\",b)"
   ]
  },
  {
   "cell_type": "code",
   "execution_count": 2,
   "id": "9402fb07-e039-4299-918c-27e9de0630ed",
   "metadata": {},
   "outputs": [
    {
     "name": "stdout",
     "output_type": "stream",
     "text": [
      "0 , False\n"
     ]
    }
   ],
   "source": [
    "c = 0 and 1\n",
    "d = True and False\n",
    "print(c,\",\",d)"
   ]
  },
  {
   "cell_type": "code",
   "execution_count": 3,
   "id": "a4de06c2-24de-4044-b0b5-0a9416c034e1",
   "metadata": {},
   "outputs": [
    {
     "name": "stdout",
     "output_type": "stream",
     "text": [
      "False , False\n"
     ]
    }
   ],
   "source": [
    "e = not 1\n",
    "f = not True\n",
    "print(e,\",\",f)"
   ]
  },
  {
   "cell_type": "code",
   "execution_count": 5,
   "id": "d18cac0a-03ca-42f6-884d-e67fd913a101",
   "metadata": {},
   "outputs": [],
   "source": [
    "t = 'Hasnain'\n",
    "h = 0.66"
   ]
  },
  {
   "cell_type": "code",
   "execution_count": 5,
   "id": "8c3a4163-0e77-468c-8ecc-e945ac2a5169",
   "metadata": {},
   "outputs": [
    {
     "name": "stdout",
     "output_type": "stream",
     "text": [
      "<class 'int'>\n",
      "<class 'bool'>\n",
      "<class 'int'>\n",
      "<class 'str'>\n",
      "<class 'float'>\n",
      "<class 'bool'>\n"
     ]
    }
   ],
   "source": [
    "print(type(a))\n",
    "print(type(b))\n",
    "print(type(c))\n",
    "print(type(t))\n",
    "print(type(h))\n",
    "print(type(f))"
   ]
  },
  {
   "cell_type": "code",
   "execution_count": 6,
   "id": "fead6334-076c-470b-ba2a-0fec9d3c1bd5",
   "metadata": {},
   "outputs": [
    {
     "name": "stdout",
     "output_type": "stream",
     "text": [
      "0\n"
     ]
    }
   ],
   "source": [
    "# Convert Float Type into Integer\n",
    "print(int(h))"
   ]
  },
  {
   "cell_type": "code",
   "execution_count": 9,
   "id": "d6e6325e-e656-4db3-9c76-14a87c056e11",
   "metadata": {},
   "outputs": [],
   "source": [
    "# Using Operators in Python through Input Function"
   ]
  },
  {
   "cell_type": "code",
   "execution_count": 8,
   "id": "84c86ece-bfa5-4b1e-b228-97c9df0f6163",
   "metadata": {},
   "outputs": [
    {
     "name": "stdin",
     "output_type": "stream",
     "text": [
      "Enter your Number 6\n",
      "Enter your Number 9\n"
     ]
    },
    {
     "name": "stdout",
     "output_type": "stream",
     "text": [
      "6\n",
      "9\n",
      "15\n"
     ]
    }
   ],
   "source": [
    "num3 = int(input('Enter your Number'))\n",
    "num4 = int(input('Enter your Number'))\n",
    "print(num3)\n",
    "print(num4)\n",
    "print(num3 + num4)"
   ]
  },
  {
   "cell_type": "markdown",
   "id": "42f75c34-421c-4d41-adcf-0d2825077db0",
   "metadata": {},
   "source": [
    "# Problems Practice"
   ]
  },
  {
   "cell_type": "code",
   "execution_count": 7,
   "id": "b0636b5d-2c75-4c19-801e-2036ae2d177d",
   "metadata": {},
   "outputs": [
    {
     "name": "stdin",
     "output_type": "stream",
     "text": [
      "Enter your Number 7\n",
      "Enter your Number 8\n"
     ]
    },
    {
     "name": "stdout",
     "output_type": "stream",
     "text": [
      "7\n",
      "8\n",
      "78\n"
     ]
    }
   ],
   "source": [
    "# Write a python program to add two numbers.\n",
    "num1 = input('Enter your Number')\n",
    "num2 = input('Enter your Number')\n",
    "print(num1)\n",
    "print(num2)\n",
    "print(num1 + num2)"
   ]
  },
  {
   "cell_type": "code",
   "execution_count": 9,
   "id": "0e8a5ed4-2c17-46fa-8075-15d9958751e3",
   "metadata": {},
   "outputs": [
    {
     "name": "stdout",
     "output_type": "stream",
     "text": [
      "Reminder when a is devided by b: 2\n"
     ]
    }
   ],
   "source": [
    "# Write a python program to find remainder when a number is divided by z. \n",
    "a = 65\n",
    "b = 7\n",
    "print('Reminder when a is devided by b:', a % b)"
   ]
  },
  {
   "cell_type": "code",
   "execution_count": 10,
   "id": "20bced60-5704-4ae3-a662-120237248441",
   "metadata": {},
   "outputs": [
    {
     "name": "stdout",
     "output_type": "stream",
     "text": [
      "Check whether a is greater then b or not: False\n"
     ]
    }
   ],
   "source": [
    "# Use comparison operator to find out whether ‘a’ given variable a is greater than ‘b’ or not. Take a = 34 and b = 80 \n",
    "a = 34\n",
    "b = 80\n",
    "print('Check whether a is greater then b or not:', a > b)"
   ]
  },
  {
   "cell_type": "code",
   "execution_count": 11,
   "id": "f2c40951-c91e-4368-a360-6f9ff370121e",
   "metadata": {},
   "outputs": [
    {
     "name": "stdin",
     "output_type": "stream",
     "text": [
      "Enter the first number: 6\n"
     ]
    },
    {
     "name": "stdout",
     "output_type": "stream",
     "text": [
      "The Square of your given number is: 36\n"
     ]
    }
   ],
   "source": [
    "# Write a python program to calculate the square of a number entered by the user.\n",
    "\n",
    "number = int(input('Enter the first number:'))\n",
    "print('The Square of your given number is:', number**2)"
   ]
  },
  {
   "cell_type": "code",
   "execution_count": null,
   "id": "32db2ecd-636d-4a98-b471-03934c53299d",
   "metadata": {},
   "outputs": [],
   "source": []
  }
 ],
 "metadata": {
  "kernelspec": {
   "display_name": "Python 3 (ipykernel)",
   "language": "python",
   "name": "python3"
  },
  "language_info": {
   "codemirror_mode": {
    "name": "ipython",
    "version": 3
   },
   "file_extension": ".py",
   "mimetype": "text/x-python",
   "name": "python",
   "nbconvert_exporter": "python",
   "pygments_lexer": "ipython3",
   "version": "3.13.7"
  }
 },
 "nbformat": 4,
 "nbformat_minor": 5
}
