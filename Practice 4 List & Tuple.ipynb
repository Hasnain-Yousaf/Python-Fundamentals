{
 "cells": [
  {
   "cell_type": "markdown",
   "id": "2ffab534-7905-49f2-8deb-56b11190c66a",
   "metadata": {},
   "source": [
    "# Lists and Tuples\n",
    "Lists are mutable (That means we can make changes into the Lists )"
   ]
  },
  {
   "cell_type": "code",
   "execution_count": 14,
   "id": "81d330fe-6d41-43d3-b334-cd0249a66e13",
   "metadata": {},
   "outputs": [
    {
     "data": {
      "text/plain": [
       "'Apple'"
      ]
     },
     "execution_count": 14,
     "metadata": {},
     "output_type": "execute_result"
    }
   ],
   "source": [
    "# Indexing\n",
    "my_list = ['Apple','Orange',5,3.1417,False,'Hasnain','Salar']\n",
    "my_list[0]"
   ]
  },
  {
   "cell_type": "code",
   "execution_count": 2,
   "id": "5c8a94ae-43a2-4d4d-89cb-3c1fb7739749",
   "metadata": {},
   "outputs": [
    {
     "data": {
      "text/plain": [
       "'Guave'"
      ]
     },
     "execution_count": 2,
     "metadata": {},
     "output_type": "execute_result"
    }
   ],
   "source": [
    "my_list[1] = 'Guave'\n",
    "my_list[1]"
   ]
  },
  {
   "cell_type": "code",
   "execution_count": 3,
   "id": "62b94669-edd6-4e13-9df1-76e308f0b242",
   "metadata": {},
   "outputs": [
    {
     "data": {
      "text/plain": [
       "['Apple', 'Guave', 5]"
      ]
     },
     "execution_count": 3,
     "metadata": {},
     "output_type": "execute_result"
    }
   ],
   "source": [
    "# Slicing\n",
    "my_list[0:3]"
   ]
  },
  {
   "cell_type": "markdown",
   "id": "f1c9a993-b8e7-41cb-9579-6b6c6de17632",
   "metadata": {},
   "source": [
    "# Most Common Methods"
   ]
  },
  {
   "cell_type": "code",
   "execution_count": 3,
   "id": "7870514f-d626-457b-95ae-fdbdd4da05a8",
   "metadata": {},
   "outputs": [],
   "source": [
    "# l1.sort(): updates the list to [1,2,7,8,15,21] \n",
    "#• l1.reverse(): updates the list to [15,21,2,7,8,1] \n",
    "#• l1.append(8): adds 8 at the end of the list  \n",
    "#• l1.insert(3,8): This will add 8 at 3 index \n",
    "#• l1.pop(2): Will delete element at index 2 and return its value. \n",
    "#• l1.remove(21): Will remove 21 from the list."
   ]
  },
  {
   "cell_type": "code",
   "execution_count": 4,
   "id": "3f823f72-ecd5-4066-a7ae-2d632e31c771",
   "metadata": {},
   "outputs": [
    {
     "data": {
      "text/plain": [
       "['Apple', 'Guave', 5, 3.1417, False, 'Hasnain', 'Salar', 'Specter']"
      ]
     },
     "execution_count": 4,
     "metadata": {},
     "output_type": "execute_result"
    }
   ],
   "source": [
    "# Word append means Add at the end\n",
    "my_list.append('Specter')\n",
    "my_list"
   ]
  },
  {
   "cell_type": "code",
   "execution_count": 5,
   "id": "abd1e6b8-6972-49e8-a817-f4daf451f046",
   "metadata": {},
   "outputs": [
    {
     "data": {
      "text/plain": [
       "['Specter', 'Salar', 'Hasnain', False, 3.1417, 5, 'Guave', 'Apple']"
      ]
     },
     "execution_count": 5,
     "metadata": {},
     "output_type": "execute_result"
    }
   ],
   "source": [
    "my_list.reverse()\n",
    "my_list"
   ]
  },
  {
   "cell_type": "code",
   "execution_count": 6,
   "id": "c827ba73-53bd-4e5c-8e6d-6cb5de9d5334",
   "metadata": {},
   "outputs": [
    {
     "name": "stdout",
     "output_type": "stream",
     "text": [
      "['Apple', 'Guave', 5, 3.1417, False, 'Hasnain', 'Salar', 'Specter']\n"
     ]
    }
   ],
   "source": [
    "print(my_list[::-1])"
   ]
  },
  {
   "cell_type": "code",
   "execution_count": 7,
   "id": "d33d6f71-37d4-4452-86ba-925894fbe090",
   "metadata": {},
   "outputs": [
    {
     "data": {
      "text/plain": [
       "[344, 989, 787, 6457, 545, 465]"
      ]
     },
     "execution_count": 7,
     "metadata": {},
     "output_type": "execute_result"
    }
   ],
   "source": [
    "num_list = [465,545,6457,787,989,344]\n",
    "num_list.reverse()\n",
    "num_list"
   ]
  },
  {
   "cell_type": "code",
   "execution_count": 8,
   "id": "4e91ff99-ef64-45fb-aa13-aeecb4b567da",
   "metadata": {},
   "outputs": [
    {
     "data": {
      "text/plain": [
       "[344, 465, 545, 787, 989, 6457]"
      ]
     },
     "execution_count": 8,
     "metadata": {},
     "output_type": "execute_result"
    }
   ],
   "source": [
    "num_list.sort()\n",
    "num_list"
   ]
  },
  {
   "cell_type": "code",
   "execution_count": 15,
   "id": "a2095723-0924-4e5e-a12f-d65366c1c29a",
   "metadata": {},
   "outputs": [
    {
     "data": {
      "text/plain": [
       "['Apple', 'Orange', 'Almond', 5, 3.1417, False, 'Hasnain', 'Salar']"
      ]
     },
     "execution_count": 15,
     "metadata": {},
     "output_type": "execute_result"
    }
   ],
   "source": [
    "my_list.insert(2, 'Almond')\n",
    "my_list"
   ]
  },
  {
   "cell_type": "code",
   "execution_count": 16,
   "id": "90b034d9-229e-4246-b4a8-81f4e7d3121b",
   "metadata": {},
   "outputs": [
    {
     "data": {
      "text/plain": [
       "['Apple', 'Orange', 5, 3.1417, False, 'Hasnain', 'Salar']"
      ]
     },
     "execution_count": 16,
     "metadata": {},
     "output_type": "execute_result"
    }
   ],
   "source": [
    "my_list.pop(2)\n",
    "my_list"
   ]
  },
  {
   "cell_type": "code",
   "execution_count": 17,
   "id": "208bd485-90e2-462a-9f37-1557127ef956",
   "metadata": {},
   "outputs": [
    {
     "data": {
      "text/plain": [
       "['Apple', 'Orange', 5, 3.1417, False, 'Hasnain']"
      ]
     },
     "execution_count": 17,
     "metadata": {},
     "output_type": "execute_result"
    }
   ],
   "source": [
    "my_list.remove('Salar')\n",
    "my_list"
   ]
  },
  {
   "cell_type": "markdown",
   "id": "8b99c310-f64f-4d8e-9c48-1ed82250355e",
   "metadata": {},
   "source": [
    "# Tuple\n",
    "Tuples are Immutable (can't change the values, once these are created)"
   ]
  },
  {
   "cell_type": "code",
   "execution_count": 21,
   "id": "e4c8562c-2299-47a3-928f-2c59d9a502a2",
   "metadata": {},
   "outputs": [
    {
     "name": "stdout",
     "output_type": "stream",
     "text": [
      "<class 'tuple'>\n"
     ]
    }
   ],
   "source": [
    "tup = (1,23,4,'string', 'Specter',32.2, False)\n",
    "print(type(tup))"
   ]
  },
  {
   "cell_type": "code",
   "execution_count": 24,
   "id": "275a7b0a-ed32-4aea-8086-74b4faf0af16",
   "metadata": {},
   "outputs": [
    {
     "name": "stdout",
     "output_type": "stream",
     "text": [
      "True\n",
      "False\n"
     ]
    }
   ],
   "source": [
    "print(23 in tup)\n",
    "print(45 in tup)"
   ]
  },
  {
   "cell_type": "markdown",
   "id": "a1b752b3-f74d-40ee-954d-0eb52ae7b79b",
   "metadata": {},
   "source": [
    "# Problems"
   ]
  },
  {
   "cell_type": "code",
   "execution_count": 4,
   "id": "4c0ba4f9-c585-4d62-9500-5955d542200e",
   "metadata": {},
   "outputs": [
    {
     "name": "stdin",
     "output_type": "stream",
     "text": [
      "Ener your favourite Fruit name Apple\n",
      "Ener your favourite Fruit name Guave\n",
      "Ener your favourite Fruit name Grapes\n",
      "Ener your favourite Fruit name PineApple\n",
      "Ener your favourite Fruit name Strawberry\n",
      "Ener your favourite Fruit name Orange\n",
      "Ener your favourite Fruit name Dates\n"
     ]
    },
    {
     "name": "stdout",
     "output_type": "stream",
     "text": [
      "['Apple', 'Guave', 'Grapes', 'PineApple', 'Strawberry', 'Orange', 'Dates']\n"
     ]
    }
   ],
   "source": [
    "# Write a program to store seven fruits in a list entered by the user.\n",
    "\n",
    "Fruits = []\n",
    "user1 = input('Ener your favourite Fruit name')\n",
    "Fruits.append(user1)\n",
    "user2 = input('Ener your favourite Fruit name')\n",
    "Fruits.append(user2)\n",
    "user3 = input('Ener your favourite Fruit name')\n",
    "Fruits.append(user3)\n",
    "user4 = input('Ener your favourite Fruit name')\n",
    "Fruits.append(user4)\n",
    "user5 = input('Ener your favourite Fruit name')\n",
    "Fruits.append(user5)\n",
    "user6 = input('Ener your favourite Fruit name')\n",
    "Fruits.append(user6)\n",
    "user7 = input('Ener your favourite Fruit name')\n",
    "Fruits.append(user7)\n",
    "\n",
    "print(Fruits)"
   ]
  },
  {
   "cell_type": "code",
   "execution_count": 12,
   "id": "4c34227c-8ada-4203-9139-3910f192d1e9",
   "metadata": {},
   "outputs": [
    {
     "name": "stdin",
     "output_type": "stream",
     "text": [
      "Ener your favourite Fruit name 34\n",
      "Ener your favourite Fruit name 45\n",
      "Ener your favourite Fruit name 56\n",
      "Ener your favourite Fruit name 67\n",
      "Ener your favourite Fruit name 100\n",
      "Ener your favourite Fruit name 90\n"
     ]
    },
    {
     "name": "stdout",
     "output_type": "stream",
     "text": [
      "[34, 45, 56, 67, 90, 100]\n"
     ]
    }
   ],
   "source": [
    "# Write a program to accept marks of 6 students and display them in a sorted manner.\n",
    "\n",
    "marks = []\n",
    "Student1 = int(input('Ener your favourite Fruit name'))\n",
    "marks.append(Student1)\n",
    "Student2 = int(input('Ener your favourite Fruit name'))\n",
    "marks.append(Student2)\n",
    "Student3 = int(input('Ener your favourite Fruit name'))\n",
    "marks.append(Student3)\n",
    "Student4 = int(input('Ener your favourite Fruit name'))\n",
    "marks.append(Student4)\n",
    "Student5 = int(input('Ener your favourite Fruit name'))\n",
    "marks.append(Student5)\n",
    "Student6 = int(input('Ener your favourite Fruit name'))\n",
    "marks.append(Student6)\n",
    "marks.sort()\n",
    "print(marks)"
   ]
  },
  {
   "cell_type": "code",
   "execution_count": 13,
   "id": "9e93d010-ab82-46cf-abd6-b52fdb9c160a",
   "metadata": {},
   "outputs": [
    {
     "ename": "TypeError",
     "evalue": "'tuple' object does not support item assignment",
     "output_type": "error",
     "traceback": [
      "\u001b[1;31m---------------------------------------------------------------------------\u001b[0m",
      "\u001b[1;31mTypeError\u001b[0m                                 Traceback (most recent call last)",
      "Cell \u001b[1;32mIn[13], line 2\u001b[0m\n\u001b[0;32m      1\u001b[0m my_list \u001b[38;5;241m=\u001b[39m (\u001b[38;5;124m'\u001b[39m\u001b[38;5;124mwe\u001b[39m\u001b[38;5;124m'\u001b[39m,\u001b[38;5;124m'\u001b[39m\u001b[38;5;124myou\u001b[39m\u001b[38;5;124m'\u001b[39m,\u001b[38;5;124m'\u001b[39m\u001b[38;5;124mi\u001b[39m\u001b[38;5;124m'\u001b[39m,\u001b[38;5;124m'\u001b[39m\u001b[38;5;124mo\u001b[39m\u001b[38;5;124m'\u001b[39m,\u001b[38;5;124m'\u001b[39m\u001b[38;5;124mthey\u001b[39m\u001b[38;5;124m'\u001b[39m)\n\u001b[1;32m----> 2\u001b[0m \u001b[43mmy_list\u001b[49m\u001b[43m[\u001b[49m\u001b[38;5;241;43m0\u001b[39;49m\u001b[43m]\u001b[49m \u001b[38;5;241m=\u001b[39m \u001b[38;5;124m'\u001b[39m\u001b[38;5;124mSpecter\u001b[39m\u001b[38;5;124m'\u001b[39m\n",
      "\u001b[1;31mTypeError\u001b[0m: 'tuple' object does not support item assignment"
     ]
    }
   ],
   "source": [
    "# Check that a tuple type cannot be changed in python.\n",
    "\n",
    "my_list = ('we','you','i','o','they')\n",
    "my_list[0] = 'Specter'"
   ]
  },
  {
   "cell_type": "code",
   "execution_count": 14,
   "id": "a77906dc-c420-44b6-885d-f5a365664621",
   "metadata": {},
   "outputs": [
    {
     "name": "stdout",
     "output_type": "stream",
     "text": [
      "18\n"
     ]
    }
   ],
   "source": [
    "# Write a program to sum a list with 4 numbers. \n",
    "\n",
    "add = [3,4,5,6]\n",
    "print(sum(add))"
   ]
  },
  {
   "cell_type": "code",
   "execution_count": 15,
   "id": "cdbb88d2-01da-4c30-b6bd-83d3ca5c8c9f",
   "metadata": {},
   "outputs": [
    {
     "data": {
      "text/plain": [
       "4"
      ]
     },
     "execution_count": 15,
     "metadata": {},
     "output_type": "execute_result"
    }
   ],
   "source": [
    "# Write a program to count the number of zeros in the following tuple:\n",
    "\n",
    "zero = [7,0,0,6,4,3,0,0]\n",
    "zero.count(0)"
   ]
  },
  {
   "cell_type": "code",
   "execution_count": null,
   "id": "df582c86-f9ea-41bf-a530-2594cdfd8d37",
   "metadata": {},
   "outputs": [],
   "source": []
  }
 ],
 "metadata": {
  "kernelspec": {
   "display_name": "Python 3 (ipykernel)",
   "language": "python",
   "name": "python3"
  },
  "language_info": {
   "codemirror_mode": {
    "name": "ipython",
    "version": 3
   },
   "file_extension": ".py",
   "mimetype": "text/x-python",
   "name": "python",
   "nbconvert_exporter": "python",
   "pygments_lexer": "ipython3",
   "version": "3.13.7"
  }
 },
 "nbformat": 4,
 "nbformat_minor": 5
}
