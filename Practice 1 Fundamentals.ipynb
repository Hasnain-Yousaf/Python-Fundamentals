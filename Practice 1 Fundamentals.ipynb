{
 "cells": [
  {
   "cell_type": "code",
   "execution_count": 6,
   "id": "e5cee04a-c122-4795-8ee7-e14f5cd87476",
   "metadata": {},
   "outputs": [],
   "source": [
    "# External Modules \n",
    "import pyjokes"
   ]
  },
  {
   "cell_type": "code",
   "execution_count": 7,
   "id": "b37243ee-f2a1-4b1c-91b2-8de135425e9a",
   "metadata": {},
   "outputs": [
    {
     "name": "stdout",
     "output_type": "stream",
     "text": [
      "Programmer: The ship I boarded crashed and I am dying! Project Manager: Then let's do a quick knowledge transfer session before you go.\n"
     ]
    }
   ],
   "source": [
    "jokes = pyjokes.get_joke()\n",
    "print(jokes)"
   ]
  },
  {
   "cell_type": "code",
   "execution_count": 8,
   "id": "c449b594-e19e-4ed7-bf2f-9273ff850a97",
   "metadata": {},
   "outputs": [
    {
     "name": "stdout",
     "output_type": "stream",
     "text": [
      "Programmer: The ship I boarded crashed and I am dying! Project Manager: Then let's do a quick knowledge transfer session before you go.\n"
     ]
    }
   ],
   "source": [
    "# Multi-Lines Comments\n",
    "\n",
    "''' Data science is an interdisciplinary field that uses computational and statistical methods to extract knowledge and actionable insights from large,\n",
    "complex datasets. It blends principles from computer science, mathematics, statistics, and business to ask questions, identify patterns, \n",
    "build predictive models, and guide decision-making for organizations across various industries.  '''\n",
    "\n",
    "print(jokes)"
   ]
  },
  {
   "cell_type": "markdown",
   "id": "513d8446-bca2-4a9e-8067-b586ce38ed2e",
   "metadata": {},
   "source": [
    "# Practice Problems"
   ]
  },
  {
   "cell_type": "code",
   "execution_count": 9,
   "id": "baf8205b-0aae-40ed-b2c6-55397f50ebb4",
   "metadata": {},
   "outputs": [
    {
     "name": "stdout",
     "output_type": "stream",
     "text": [
      "Twinkle Twinkle Littel Star\n"
     ]
    },
    {
     "data": {
      "text/plain": [
       "'Twinkle, twinkle, little star, how I wonder what you are. Up above the world so high,\\nlike a diamond in the sky. Twinkle, twinkle, little star, how I wonder what you are.\\nWhen the blazing sun is set, and the grass with dew is wet. Then you show your little\\nlight, twinkle, twinkle all the night. Twinkle, twinkle little star, how I wonder what you\\nare.\\nThen the traveler in the dark thanks you for your tiny spark. How could he see where to\\ngo if you did not twinkle so? Twinkle, twinkle little star, how I wonder what you are.\\nAs your bright and tiny spark lights the traveler in the dark, though I know not what you\\nare, twinkle, twinkle, little star. Twinkle, twinkle, little star, how I wonder what you are.'"
      ]
     },
     "execution_count": 9,
     "metadata": {},
     "output_type": "execute_result"
    }
   ],
   "source": [
    "# Write a program to print Twinkle twinkle little star poem in python using multi-lines comments\n",
    "\n",
    "print('Twinkle Twinkle Littel Star')\n",
    "\n",
    "# Multi-Lines Comments\n",
    "'''Twinkle, twinkle, little star, how I wonder what you are. Up above the world so high,\n",
    "like a diamond in the sky. Twinkle, twinkle, little star, how I wonder what you are.\n",
    "When the blazing sun is set, and the grass with dew is wet. Then you show your little\n",
    "light, twinkle, twinkle all the night. Twinkle, twinkle little star, how I wonder what you\n",
    "are.\n",
    "Then the traveler in the dark thanks you for your tiny spark. How could he see where to\n",
    "go if you did not twinkle so? Twinkle, twinkle little star, how I wonder what you are.\n",
    "As your bright and tiny spark lights the traveler in the dark, though I know not what you\n",
    "are, twinkle, twinkle, little star. Twinkle, twinkle, little star, how I wonder what you are.'''"
   ]
  },
  {
   "cell_type": "code",
   "execution_count": null,
   "id": "e706af93-660a-4771-8dde-8a545e17a1e2",
   "metadata": {},
   "outputs": [],
   "source": [
    "# use REPL and print the table of 5 using it. "
   ]
  },
  {
   "cell_type": "code",
   "execution_count": 5,
   "id": "ee930c1b-851f-4e50-ad8b-1d25710fad66",
   "metadata": {},
   "outputs": [],
   "source": [
    "# Install an external module and use it to perform an operation of your interest.  .\\\n",
    "import pyttsx3\n",
    "engine = pyttsx3.init()\n",
    "engine.say(\"My name is Hasnain\")\n",
    "engine.runAndWait()"
   ]
  },
  {
   "cell_type": "code",
   "execution_count": 6,
   "id": "26bf6fc7-4e32-496f-825e-af3b22324158",
   "metadata": {},
   "outputs": [],
   "source": [
    "import pyttsx3\n",
    "pyttsx3.speak('My name is Hasnain Yousaf')"
   ]
  },
  {
   "cell_type": "code",
   "execution_count": 7,
   "id": "324f1f4f-9951-4006-ae07-7640265f5d9f",
   "metadata": {},
   "outputs": [
    {
     "name": "stdout",
     "output_type": "stream",
     "text": [
      "Contents of directory '/':\n",
      "$Recycle.Bin\n",
      "Config.Msi\n",
      "Documents and Settings\n",
      "DumpStack.log.tmp\n",
      "hiberfil.sys\n",
      "inetpub\n",
      "logUploaderSettings.ini\n",
      "logUploaderSettings_temp.ini\n",
      "OneDriveTemp\n",
      "pagefile.sys\n",
      "PerfLogs\n",
      "PortableApps\n",
      "Program Files\n",
      "Program Files (x86)\n",
      "ProgramData\n",
      "Recovery\n",
      "Strawberry\n",
      "swapfile.sys\n",
      "System Volume Information\n",
      "Users\n",
      "WCH.CN\n",
      "Windows\n"
     ]
    }
   ],
   "source": [
    "# Write a python program to print the contents of a directory using the os module. Search online for the function which does that.\n",
    "\n",
    "# That is the code generated through ChatGPT\n",
    "\n",
    "import os\n",
    "\n",
    "def print_directory_contents(directory_path):\n",
    "    \"\"\"\n",
    "    Prints all files and subdirectories in the given directory_path.\n",
    "    \"\"\"\n",
    "    try:\n",
    "        entries = os.listdir('/')\n",
    "    except FileNotFoundError:\n",
    "        print(f\"Error: Directory '{'/'}' does not exist.\")\n",
    "        return\n",
    "    except PermissionError:\n",
    "        print(f\"Error: Permission denied for directory '{'/'}'.\")\n",
    "        return\n",
    "\n",
    "    print(f\"Contents of directory '{'/'}':\")\n",
    "    for name in entries:\n",
    "        print(name)\n",
    "\n",
    "if __name__ == \"__main__\":\n",
    "    # You can change this to any directory you want\n",
    "    path = \".\"  # current directory\n",
    "    print_directory_contents(path)\n"
   ]
  },
  {
   "cell_type": "code",
   "execution_count": null,
   "id": "3be6035a-c516-4f0b-92a2-18376fb032dd",
   "metadata": {},
   "outputs": [],
   "source": []
  },
  {
   "cell_type": "code",
   "execution_count": null,
   "id": "b097df4a-ec7e-4db9-8cbb-bd8197f39d19",
   "metadata": {},
   "outputs": [],
   "source": []
  }
 ],
 "metadata": {
  "kernelspec": {
   "display_name": "Python 3 (ipykernel)",
   "language": "python",
   "name": "python3"
  },
  "language_info": {
   "codemirror_mode": {
    "name": "ipython",
    "version": 3
   },
   "file_extension": ".py",
   "mimetype": "text/x-python",
   "name": "python",
   "nbconvert_exporter": "python",
   "pygments_lexer": "ipython3",
   "version": "3.13.7"
  }
 },
 "nbformat": 4,
 "nbformat_minor": 5
}
