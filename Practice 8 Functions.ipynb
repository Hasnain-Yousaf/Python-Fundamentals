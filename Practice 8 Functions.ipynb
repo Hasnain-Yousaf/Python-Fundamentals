{
 "cells": [
  {
   "cell_type": "markdown",
   "id": "255644fa-0953-4259-8d78-368201c6797a",
   "metadata": {},
   "source": [
    "# Functions"
   ]
  },
  {
   "cell_type": "code",
   "execution_count": 70,
   "id": "9f672af3-ba7b-4b54-aae2-a30480589247",
   "metadata": {},
   "outputs": [],
   "source": [
    "# Function name is just like a variable name\n",
    "# Function definition\n",
    "def avg():\n",
    "    a = int(input('Enter Your Number'))\n",
    "    b = int(input('Enter Your Number'))\n",
    "    c = int(input('Enter Your Number'))\n",
    "    print('Your Average number is:',(a+b+c)/3)"
   ]
  },
  {
   "cell_type": "code",
   "execution_count": 71,
   "id": "4abd610c-6f60-4dbc-b7ca-b40bbd4c26d7",
   "metadata": {},
   "outputs": [
    {
     "name": "stdin",
     "output_type": "stream",
     "text": [
      "Enter Your Number 3\n",
      "Enter Your Number 3\n",
      "Enter Your Number 3\n"
     ]
    },
    {
     "name": "stdout",
     "output_type": "stream",
     "text": [
      "Your Average number is: 3.0\n",
      "\n"
     ]
    },
    {
     "name": "stdin",
     "output_type": "stream",
     "text": [
      "Enter Your Number 3\n",
      "Enter Your Number 3\n",
      "Enter Your Number 3\n"
     ]
    },
    {
     "name": "stdout",
     "output_type": "stream",
     "text": [
      "Your Average number is: 3.0\n"
     ]
    }
   ],
   "source": [
    "# Function call\n",
    "avg()\n",
    "print()\n",
    "avg()"
   ]
  },
  {
   "cell_type": "code",
   "execution_count": null,
   "id": "6ec4236f-34bb-4ff6-a036-1730325f05a2",
   "metadata": {},
   "outputs": [],
   "source": []
  },
  {
   "cell_type": "code",
   "execution_count": null,
   "id": "06998ee6-7090-4f84-b4b6-bc710adb9c34",
   "metadata": {},
   "outputs": [],
   "source": [
    " # Write a program to greet a user with “Good Morning” using functions. \n",
    "\n",
    "def greet():\n",
    "    name = input('Enter your Name')\n",
    "    print('Good Morning!',name)"
   ]
  },
  {
   "cell_type": "code",
   "execution_count": 73,
   "id": "15828c28-e183-42e2-ae0d-7ae246e3c42a",
   "metadata": {},
   "outputs": [
    {
     "name": "stdin",
     "output_type": "stream",
     "text": [
      "Enter your Name Hasnain\n"
     ]
    },
    {
     "name": "stdout",
     "output_type": "stream",
     "text": [
      "Good Morning! Hasnain\n"
     ]
    }
   ],
   "source": [
    "greet()"
   ]
  },
  {
   "cell_type": "code",
   "execution_count": null,
   "id": "3009d944-b503-4e64-8069-87ac36a247c3",
   "metadata": {},
   "outputs": [],
   "source": []
  },
  {
   "cell_type": "code",
   "execution_count": 74,
   "id": "e0217434-313a-49d5-a4c7-0e6ac00767d4",
   "metadata": {},
   "outputs": [],
   "source": [
    "# Arguments / Parameters also act as a Variable name\n",
    "def greet1(name, ending):\n",
    "    print('Good Morning:',name)\n",
    "    print(ending)"
   ]
  },
  {
   "cell_type": "code",
   "execution_count": 75,
   "id": "762177fc-c20a-455e-addf-84d230488725",
   "metadata": {},
   "outputs": [
    {
     "name": "stdout",
     "output_type": "stream",
     "text": [
      "Good Morning: Hey Boy!\n",
      "Thank you so much for your Valuable Time!\n"
     ]
    }
   ],
   "source": [
    "greet1('Hey Boy!','Thank you so much for your Valuable Time!')"
   ]
  },
  {
   "cell_type": "code",
   "execution_count": null,
   "id": "01909ff2-5f11-45a1-a2a4-786cdae7b87b",
   "metadata": {},
   "outputs": [],
   "source": []
  },
  {
   "cell_type": "code",
   "execution_count": 76,
   "id": "af567bd0-455c-4f6c-a4e3-25c2751f14f3",
   "metadata": {},
   "outputs": [],
   "source": [
    "def greet1(name, ending = 'Thank you'):\n",
    "    print('Good Morning:',name)\n",
    "    print(ending)"
   ]
  },
  {
   "cell_type": "code",
   "execution_count": 77,
   "id": "78629982-9168-4b00-9c70-2f15eec251c8",
   "metadata": {},
   "outputs": [
    {
     "name": "stdout",
     "output_type": "stream",
     "text": [
      "Good Morning: Hasnain\n",
      "Thank you\n"
     ]
    }
   ],
   "source": [
    "greet1('Hasnain')"
   ]
  },
  {
   "cell_type": "markdown",
   "id": "47d7cd61-4f1b-468b-9cb1-99829230f420",
   "metadata": {},
   "source": [
    "# Recursion "
   ]
  },
  {
   "cell_type": "code",
   "execution_count": 78,
   "id": "80cec769-0668-444f-a32b-a9315eac10c3",
   "metadata": {},
   "outputs": [],
   "source": [
    "# This recursion could also be solved by a \"for loop\", but this method is typically designed for Recursion \n",
    "\n",
    "def factorial(n):\n",
    "    if (n==1 or n==0):\n",
    "        return 1\n",
    "    return n * factorial(n-1)"
   ]
  },
  {
   "cell_type": "code",
   "execution_count": 79,
   "id": "762daaaf-0357-4954-949e-1e8da2474e2c",
   "metadata": {},
   "outputs": [
    {
     "data": {
      "text/plain": [
       "24"
      ]
     },
     "execution_count": 79,
     "metadata": {},
     "output_type": "execute_result"
    }
   ],
   "source": [
    "factorial(4)"
   ]
  },
  {
   "cell_type": "code",
   "execution_count": 80,
   "id": "77aa9df4-e38f-4e17-8a91-ad7befe4bb06",
   "metadata": {},
   "outputs": [],
   "source": [
    "def recursive(n):\n",
    "    if (n==1):\n",
    "        return 1\n",
    "    return recursive(n-1) + n"
   ]
  },
  {
   "cell_type": "code",
   "execution_count": 81,
   "id": "20411fd0-686d-47a6-ad47-1de3608eb6ab",
   "metadata": {},
   "outputs": [
    {
     "data": {
      "text/plain": [
       "28"
      ]
     },
     "execution_count": 81,
     "metadata": {},
     "output_type": "execute_result"
    }
   ],
   "source": [
    "recursive(7)"
   ]
  },
  {
   "cell_type": "markdown",
   "id": "363ecbb8-186e-4e2a-a6ef-324b92efeed1",
   "metadata": {},
   "source": [
    "# Problems"
   ]
  },
  {
   "cell_type": "code",
   "execution_count": 82,
   "id": "2b3537fb-b720-45da-9048-8dd17d11c3b9",
   "metadata": {},
   "outputs": [],
   "source": [
    "# 1. Write a program using functions to find greatest of three numbers. \n",
    "\n",
    "def great(num1,num2,num3):\n",
    "    if(num1>num2 and num1>num3):\n",
    "        print(\"The greatest numbe is: \",num1)\n",
    "    elif(num2>num1 and num2>num3):\n",
    "        print('The greatest numbe is: ',num2)\n",
    "    elif(num3>num1 and num3>num2):\n",
    "        print('The greatest numbe is: ',num3)"
   ]
  },
  {
   "cell_type": "code",
   "execution_count": 83,
   "id": "b3f351a7-bdae-40ba-b7d4-4f7521af6806",
   "metadata": {},
   "outputs": [
    {
     "name": "stdin",
     "output_type": "stream",
     "text": [
      "Enter your number 45\n",
      "Enter your number 67\n",
      "Enter your number 87\n"
     ]
    },
    {
     "name": "stdout",
     "output_type": "stream",
     "text": [
      "The greatest numbe is:  87\n"
     ]
    }
   ],
   "source": [
    "num1 = int(input('Enter your number'))\n",
    "num2 = int(input('Enter your number'))\n",
    "num3 = int(input('Enter your number'))\n",
    "great(num1,num2,num3)"
   ]
  },
  {
   "cell_type": "code",
   "execution_count": null,
   "id": "6ceec859-90d5-4a93-bcaa-c728332c6cf2",
   "metadata": {},
   "outputs": [],
   "source": []
  },
  {
   "cell_type": "code",
   "execution_count": 84,
   "id": "c126702d-a764-4309-85f2-9cfa86ac43f8",
   "metadata": {},
   "outputs": [],
   "source": [
    "# 2. Write a python program using function to convert Celsius to Fahrenheit. \n",
    "\n",
    "def conversion(grade):\n",
    "    output = (grade*9/5)+32\n",
    "    print(f'{grade}°C is = {output}°F')"
   ]
  },
  {
   "cell_type": "code",
   "execution_count": 85,
   "id": "f7481468-016c-4c9b-a3a1-87ee1ddfb74f",
   "metadata": {},
   "outputs": [
    {
     "name": "stdin",
     "output_type": "stream",
     "text": [
      "Enter the number of Celsius grades you want to convert in Fahrenheit grade 22\n"
     ]
    },
    {
     "name": "stdout",
     "output_type": "stream",
     "text": [
      "22°C is = 71.6°F\n"
     ]
    }
   ],
   "source": [
    "grade = int(input('Enter the number of Celsius grades you want to convert in Fahrenheit grade'))\n",
    "\n",
    "conversion(grade)"
   ]
  },
  {
   "cell_type": "code",
   "execution_count": null,
   "id": "90075dfc-3806-4b62-aa65-15bdf0a658ae",
   "metadata": {},
   "outputs": [],
   "source": []
  },
  {
   "cell_type": "code",
   "execution_count": 2,
   "id": "1b9d6d5a-3bc2-44ce-bdf5-aa9d071ff9aa",
   "metadata": {},
   "outputs": [
    {
     "name": "stdout",
     "output_type": "stream",
     "text": [
      "abcd"
     ]
    }
   ],
   "source": [
    "# 3. How do you prevent a python print() function to print a new line at the end. \n",
    "\n",
    "print('a',end ='')\n",
    "print('b',end ='')\n",
    "print('c',end ='')\n",
    "print('d',end ='')"
   ]
  },
  {
   "cell_type": "code",
   "execution_count": null,
   "id": "91afdd02-b149-4536-abcd-21a6e9fdc5e9",
   "metadata": {},
   "outputs": [],
   "source": []
  },
  {
   "cell_type": "code",
   "execution_count": 87,
   "id": "3e175932-d727-47f4-a874-c88cac181667",
   "metadata": {},
   "outputs": [],
   "source": [
    "# 4. Write a recursive function to calculate the sum of first n natural numbers. \n",
    "\n",
    "def recursive(n):\n",
    "    if (n==1):\n",
    "        return 1\n",
    "    return recursive(n-1) + n"
   ]
  },
  {
   "cell_type": "code",
   "execution_count": 88,
   "id": "a22cbd7e-b64d-46b7-9e35-20d325559430",
   "metadata": {},
   "outputs": [
    {
     "data": {
      "text/plain": [
       "15"
      ]
     },
     "execution_count": 88,
     "metadata": {},
     "output_type": "execute_result"
    }
   ],
   "source": [
    "(recursive(5))"
   ]
  },
  {
   "cell_type": "code",
   "execution_count": null,
   "id": "ab15980d-ea5b-4d9d-849c-417aac6ab579",
   "metadata": {},
   "outputs": [],
   "source": []
  },
  {
   "cell_type": "code",
   "execution_count": 89,
   "id": "687ca7e2-3513-4c31-b336-0dfca208101b",
   "metadata": {},
   "outputs": [],
   "source": [
    "# 5. Write a python function to print first n lines of the following pattern: \n",
    "\n",
    "def pattern(n):\n",
    "    if (n==0):\n",
    "        return      # return is actually used to stop the execution of a function \n",
    "    print('*'*n)\n",
    "    pattern(n-1)"
   ]
  },
  {
   "cell_type": "code",
   "execution_count": 90,
   "id": "5c594c1d-ee42-46fe-aadb-c0a436062822",
   "metadata": {},
   "outputs": [
    {
     "name": "stdout",
     "output_type": "stream",
     "text": [
      "*****\n",
      "****\n",
      "***\n",
      "**\n",
      "*\n"
     ]
    }
   ],
   "source": [
    "pattern(5)"
   ]
  },
  {
   "cell_type": "code",
   "execution_count": null,
   "id": "e845f3f0-fec2-4879-b21c-02095d244f5e",
   "metadata": {},
   "outputs": [],
   "source": []
  },
  {
   "cell_type": "code",
   "execution_count": 4,
   "id": "c8ca2249-27af-4a93-8930-b045a1749efa",
   "metadata": {},
   "outputs": [],
   "source": [
    "# 6. Write a python function which converts inches to cms. \n",
    "\n",
    "def convert(inches):\n",
    "    cm = inches * 2.54      # multiply the length value by 2.54\n",
    "    return (f\"Your given inches are '{inches}' = {cm}cms\")"
   ]
  },
  {
   "cell_type": "code",
   "execution_count": 5,
   "id": "420fc688-e566-4078-bfde-b163c29a94ec",
   "metadata": {},
   "outputs": [
    {
     "name": "stdin",
     "output_type": "stream",
     "text": [
      "Please enter the number of inches 5\n"
     ]
    },
    {
     "data": {
      "text/plain": [
       "\"Your given inches are '5' = 12.7cms\""
      ]
     },
     "execution_count": 5,
     "metadata": {},
     "output_type": "execute_result"
    }
   ],
   "source": [
    "inches = int(input('Please enter the number of inches'))\n",
    "\n",
    "convert(inches)"
   ]
  },
  {
   "cell_type": "code",
   "execution_count": null,
   "id": "22217f71-88a4-49e0-82b5-6c3d7c1ab402",
   "metadata": {},
   "outputs": [],
   "source": []
  },
  {
   "cell_type": "code",
   "execution_count": 110,
   "id": "cda89545-1769-46e4-a17a-3bdb029ca55e",
   "metadata": {},
   "outputs": [],
   "source": [
    "# Write a python function to remove a given word from a list ad strip it at the same time\n",
    "\n",
    "l = ['Hasnain', 'Harry', 2, 3.55, 'an']\n",
    "\n",
    "def rem(l):\n",
    "    l.remove('an')\n",
    "    return l"
   ]
  },
  {
   "cell_type": "code",
   "execution_count": 111,
   "id": "f4dcc6ef-4b27-47dd-beb9-638c43329f38",
   "metadata": {},
   "outputs": [
    {
     "data": {
      "text/plain": [
       "['Hasnain', 'Harry', 2, 3.55]"
      ]
     },
     "execution_count": 111,
     "metadata": {},
     "output_type": "execute_result"
    }
   ],
   "source": [
    "(rem(l))"
   ]
  },
  {
   "cell_type": "code",
   "execution_count": null,
   "id": "0d50a47a-198b-4afe-8817-6978d90b58c5",
   "metadata": {},
   "outputs": [],
   "source": []
  },
  {
   "cell_type": "code",
   "execution_count": 120,
   "id": "6b01656c-6eb5-4c38-a80c-d8ebc04a8315",
   "metadata": {},
   "outputs": [],
   "source": [
    "def multiple(n):\n",
    "    for i in range(1,11):\n",
    "        print(f'{n} X {i} = {n * i}')\n",
    "\n",
    "#  We are not gonna use the return function coz that will stop the execution at the very first time,\n",
    "        # and will not continue the remaining execution"
   ]
  },
  {
   "cell_type": "code",
   "execution_count": 121,
   "id": "f6c8c4f3-7504-45c2-a18d-31d08b94629b",
   "metadata": {},
   "outputs": [
    {
     "name": "stdin",
     "output_type": "stream",
     "text": [
      "Please Enter the right number for multiplication 9\n"
     ]
    },
    {
     "name": "stdout",
     "output_type": "stream",
     "text": [
      "9 X 1 = 9\n",
      "9 X 2 = 18\n",
      "9 X 3 = 27\n",
      "9 X 4 = 36\n",
      "9 X 5 = 45\n",
      "9 X 6 = 54\n",
      "9 X 7 = 63\n",
      "9 X 8 = 72\n",
      "9 X 9 = 81\n",
      "9 X 10 = 90\n"
     ]
    }
   ],
   "source": [
    "# 8. Write a python function to print multiplication table of a given number. \n",
    "\n",
    "n = int(input('Please Enter the right number for multiplication'))\n",
    "\n",
    "multiple(n)"
   ]
  },
  {
   "cell_type": "code",
   "execution_count": null,
   "id": "2f5e8339-62c3-4036-bd0a-cde22e9d45cd",
   "metadata": {},
   "outputs": [],
   "source": []
  },
  {
   "cell_type": "code",
   "execution_count": null,
   "id": "1563b2b5-2756-4a7a-ad49-2ed08c873c7a",
   "metadata": {},
   "outputs": [],
   "source": []
  }
 ],
 "metadata": {
  "kernelspec": {
   "display_name": "Python 3 (ipykernel)",
   "language": "python",
   "name": "python3"
  },
  "language_info": {
   "codemirror_mode": {
    "name": "ipython",
    "version": 3
   },
   "file_extension": ".py",
   "mimetype": "text/x-python",
   "name": "python",
   "nbconvert_exporter": "python",
   "pygments_lexer": "ipython3",
   "version": "3.13.7"
  }
 },
 "nbformat": 4,
 "nbformat_minor": 5
}
