{
 "cells": [
  {
   "cell_type": "code",
   "execution_count": 7,
   "id": "d6c3ab3d-27e6-43ed-b281-dc49478145a1",
   "metadata": {},
   "outputs": [],
   "source": [
    "# Very Basic way to create class\n",
    "\n",
    "class Employee:\n",
    "    language = 'Python'\n",
    "    salary = '$300K'"
   ]
  },
  {
   "cell_type": "code",
   "execution_count": 8,
   "id": "f1592bfa-5b59-4f02-8c2e-cd0b686eb126",
   "metadata": {},
   "outputs": [
    {
     "name": "stdout",
     "output_type": "stream",
     "text": [
      "Python\n",
      "$300K\n"
     ]
    }
   ],
   "source": [
    "# 1st Object\n",
    "hasnain = Employee()\n",
    "print(hasnain.language)\n",
    "print(hasnain.salary)"
   ]
  },
  {
   "cell_type": "code",
   "execution_count": 14,
   "id": "a3cff9ec-4a57-4d03-aab9-43fb53751325",
   "metadata": {},
   "outputs": [
    {
     "name": "stdout",
     "output_type": "stream",
     "text": [
      "Mr.Shelby\n",
      "Python\n",
      "$300K\n"
     ]
    }
   ],
   "source": [
    "# 2nd Object\n",
    "\n",
    "# Here name is object attribute and salary and language are class attributes\n",
    "obj = Employee()\n",
    "obj.name = 'Mr.Shelby'      # ......name is instance attribute......\n",
    "print(obj.name)\n",
    "print(obj.language)\n",
    "print(obj.salary)"
   ]
  },
  {
   "cell_type": "code",
   "execution_count": 16,
   "id": "8ef904b7-2401-4772-9cc5-e1028d7d0e2d",
   "metadata": {},
   "outputs": [
    {
     "name": "stdout",
     "output_type": "stream",
     "text": [
      "JavaScript\n",
      "$300K\n"
     ]
    }
   ],
   "source": [
    "# instance / Object attributes take preference over class attributes\n",
    "\n",
    "obj1 = Employee()\n",
    "obj1.language = 'JavaScript'\n",
    "print(obj1.language)\n",
    "print(obj1.salary)"
   ]
  },
  {
   "cell_type": "code",
   "execution_count": 18,
   "id": "c31e654a-6a5f-4a4f-960c-56cc2adf01f3",
   "metadata": {},
   "outputs": [
    {
     "name": "stdout",
     "output_type": "stream",
     "text": [
      "The language is Python. The salary is $300K\n"
     ]
    }
   ],
   "source": [
    "# Self Parameter\n",
    "class Employee:\n",
    "    language = 'Python'\n",
    "    salary = '$300K'\n",
    "\n",
    "    def getinfo(self):\n",
    "        print(f\"The language is {self.language }. The salary is {self.salary}\")\n",
    "\n",
    "thomas = Employee()\n",
    "thomas.getinfo()"
   ]
  },
  {
   "cell_type": "code",
   "execution_count": 1,
   "id": "b902aa92-42a1-46b0-a38e-e62f66cf6e21",
   "metadata": {},
   "outputs": [
    {
     "name": "stdout",
     "output_type": "stream",
     "text": [
      "This Function will automatically call itself without any permission\n",
      "\n",
      "The language is Python. The salary is $300K\n"
     ]
    }
   ],
   "source": [
    "# __init__ Constructor / \"dunder method\" which is automatically called itself\n",
    "\n",
    "class Employee:\n",
    "    language = 'Python'\n",
    "    salary = '$300K'\n",
    "\n",
    "    def __init__(self):\n",
    "        print('This Function will automatically call itself without any permission')\n",
    "\n",
    "    def getinfo(self):\n",
    "        print()\n",
    "        print(f\"The language is {self.language }. The salary is {self.salary}\")\n",
    "\n",
    "thomas = Employee()\n",
    "thomas.getinfo()"
   ]
  },
  {
   "cell_type": "code",
   "execution_count": 25,
   "id": "a3a1e84f-307f-412d-b51d-5dfd06865e38",
   "metadata": {},
   "outputs": [
    {
     "name": "stdout",
     "output_type": "stream",
     "text": [
      "By Default, This Function will automatically call itself\n",
      "Hasnain\n",
      "$300k\n",
      "Python\n",
      "\n",
      "The language is Python. The salary is $300k\n"
     ]
    }
   ],
   "source": [
    "# __init__ Function with Arguments\n",
    "\n",
    "class Employee:\n",
    "    #language = 'Python'\n",
    "    #salary = '$300K'\n",
    "\n",
    "    def __init__(self, name, salary, language):\n",
    "        self.name = name\n",
    "        self.salary = salary\n",
    "        self.language = language\n",
    "        print('By Default, This Function will automatically call itself')\n",
    "\n",
    "    def getinfo(self):\n",
    "        print()\n",
    "        print(f\"The language is {self.language }. The salary is {self.salary}\")\n",
    "\n",
    "thomas = Employee('Hasnain', '$300k', 'Python')\n",
    "print(thomas.name)\n",
    "print(thomas.salary)\n",
    "print(thomas.language)\n",
    "thomas.getinfo()"
   ]
  },
  {
   "cell_type": "markdown",
   "id": "68f9e2c9-8b20-4294-b835-1307d282de48",
   "metadata": {},
   "source": [
    "# Practice Problems"
   ]
  },
  {
   "cell_type": "code",
   "execution_count": 33,
   "id": "59249c5c-341c-48e4-91b1-66bb58f7640e",
   "metadata": {},
   "outputs": [
    {
     "name": "stdout",
     "output_type": "stream",
     "text": [
      "Hey! Hasnain, Welcome to Microsoft, You got the Job with entry Level Salary of $500k, and Your ID number is: 245001\n"
     ]
    }
   ],
   "source": [
    "# Create a class “Programmer” for storing information of few programmers working at Microsoft. \n",
    "\n",
    "class Programmer:\n",
    "    company = 'Microsoft'\n",
    "    def __init__(self,name, salary, pin):\n",
    "        self.name = name\n",
    "        self.salary = salary\n",
    "        self.pin = pin\n",
    "\n",
    "p = Programmer('Hasnain', '$500k', 245001)\n",
    "print(f\"Hey! {p.name}, Welcome to Microsoft, You got the Job with entry Level Salary of {p.salary}, and Your ID number is: {p.pin}\")"
   ]
  },
  {
   "cell_type": "code",
   "execution_count": null,
   "id": "8d320f7c-3ace-45a7-a95a-871b546e6734",
   "metadata": {},
   "outputs": [],
   "source": [
    "  "
   ]
  },
  {
   "cell_type": "code",
   "execution_count": 50,
   "id": "b2584f6a-1b12-4c60-abcc-e14e883d86e3",
   "metadata": {},
   "outputs": [],
   "source": [
    "# 2. Write a class “Calculator” capable of finding square, cube and square root of a number.\n",
    "\n",
    "class Calculator:\n",
    "    def __init__(self,number):\n",
    "        self.number = number\n",
    "        \n",
    "        square = number**2\n",
    "        cube = number**3\n",
    "        rtsq  = number**1/2\n",
    "        \n",
    "        print('------------------Welcome to my Calculator----------------------')\n",
    "        print(\"\\t\\tYour given number is: \",number)\n",
    "        \n",
    "        print(f'\\t\\tThe square of {number} is:',square)\n",
    "        print(f'\\t\\tThe cube of {number} is:',cube)\n",
    "        print(f\"\\t\\tThe Square Root of {number} is:\",rtsq)"
   ]
  },
  {
   "cell_type": "code",
   "execution_count": 51,
   "id": "af81aaee-1ea5-4217-b5c7-7ae632dbbc25",
   "metadata": {},
   "outputs": [
    {
     "name": "stdout",
     "output_type": "stream",
     "text": [
      "------------------Welcome to my Calculator----------------------\n",
      "\t\tYour given number is:  4\n",
      "\t\tThe square of 4 is: 16\n",
      "\t\tThe cube of 4 is: 64\n",
      "\t\tThe Square Root of 4 is: 2.0\n"
     ]
    }
   ],
   "source": [
    "calc = Calculator(4)"
   ]
  },
  {
   "cell_type": "code",
   "execution_count": null,
   "id": "61f259bf-2541-4d79-9cb6-4978fc30052f",
   "metadata": {},
   "outputs": [],
   "source": []
  },
  {
   "cell_type": "code",
   "execution_count": 64,
   "id": "b50a735c-f207-4806-ad83-cd0319937231",
   "metadata": {},
   "outputs": [
    {
     "name": "stdout",
     "output_type": "stream",
     "text": [
      "34\n",
      "0\n"
     ]
    }
   ],
   "source": [
    "#3.Create a class with a class attribute a; create an object from it and set ‘a’ directly using ‘object.a=0.Does this change the class attribute? \n",
    "\n",
    "class myclass:\n",
    "    a = 34\n",
    "\n",
    "# That will not change the class attribute\n",
    "a_num = myclass()\n",
    "print(myclass.a)     \n",
    "a_num.a = 0\n",
    "print(a_num.a)    "
   ]
  },
  {
   "cell_type": "code",
   "execution_count": null,
   "id": "22e7448f-9edd-4b5a-a7e0-1b37ac0b22c0",
   "metadata": {},
   "outputs": [],
   "source": []
  },
  {
   "cell_type": "code",
   "execution_count": 67,
   "id": "f691f34d-25fa-4e57-9bbf-a871db656a80",
   "metadata": {},
   "outputs": [
    {
     "name": "stdout",
     "output_type": "stream",
     "text": [
      "34\n",
      "0\n",
      "Hello World!\n"
     ]
    }
   ],
   "source": [
    "# 4. Add a static method in problem 2, to greet the user with hello. \n",
    "\n",
    "class myclass:\n",
    "    a = 34\n",
    "\n",
    "# In Staticmethod, we don't need to specify the 'self' Keyword\n",
    "    @staticmethod\n",
    "    def mood():\n",
    "        print('Hello World!')\n",
    "        \n",
    "a_num = myclass()\n",
    "print(myclass.a)     \n",
    "a_num.a = 0\n",
    "print(a_num.a)\n",
    "a_num.mood()"
   ]
  },
  {
   "cell_type": "code",
   "execution_count": null,
   "id": "3e95b879-a41f-4354-9317-e1851f40d9d7",
   "metadata": {},
   "outputs": [],
   "source": []
  },
  {
   "cell_type": "code",
   "execution_count": 2,
   "id": "9c9e755d-4568-47c0-9016-52735df291da",
   "metadata": {},
   "outputs": [
    {
     "name": "stdout",
     "output_type": "stream",
     "text": [
      "Ticket is booked in train no: 12399 from Lahore to Karachi\n",
      "Train no: 12399 is running on time\n",
      "Ticket fare in train no: 12399 from Lahore to Karachi is: 4849\n"
     ]
    }
   ],
   "source": [
    "'''Write a Class ‘Train’ which has methods to book a ticket, get status (no of seats) \n",
    "and get fare information of train running under Indian Railways.'''\n",
    "\n",
    "from random import randint\n",
    "\n",
    "class Train:\n",
    "    def __init__(self, trainNo):\n",
    "        self.trainNo = trainNo\n",
    "        \n",
    "    def book(self, fro, to):\n",
    "        print(f\"Ticket is booked in train no: {self.trainNo} from {fro} to {to}\")\n",
    "    def getStatus(self):\n",
    "        print(f\"Train no: {self.trainNo} is running on time\")\n",
    "    def getFare(self, fro, to):\n",
    "        print(f\"Ticket fare in train no: {self.trainNo} from {fro} to {to} is: {randint(222, 5555)}\")\n",
    "    \n",
    "t = Train (12399)\n",
    "t.book(\"Lahore\", \"Karachi\")\n",
    "t.getStatus()\n",
    "t.getFare(\"Lahore\", \"Karachi\")"
   ]
  },
  {
   "cell_type": "code",
   "execution_count": null,
   "id": "75ac21fe-fbb7-40a0-9fa5-dff07d9100dd",
   "metadata": {},
   "outputs": [],
   "source": []
  },
  {
   "cell_type": "code",
   "execution_count": 3,
   "id": "1ca49a21-8d3a-4217-ad6f-90edbe15d282",
   "metadata": {},
   "outputs": [
    {
     "name": "stdout",
     "output_type": "stream",
     "text": [
      "Ticket is booked in train no: 12399 from Lahore to Karachi\n",
      "Train no: 12399 is running on time\n",
      "Ticket fare in train no: 12399 from Lahore to Karachi is: 1496\n"
     ]
    }
   ],
   "source": [
    "'''6. Can you change the self-parameter inside a class to something else (say \n",
    "“harry”). Try changing self to “slf” or “harry” and see the effects.'''\n",
    "\n",
    "from random import randint\n",
    "\n",
    "class Train:\n",
    "    def __init__(slf, trainNo):\n",
    "        slf.trainNo = trainNo\n",
    "        \n",
    "    def book(slf, fro, to):\n",
    "        print(f\"Ticket is booked in train no: {slf.trainNo} from {fro} to {to}\")\n",
    "    def getStatus(slf):\n",
    "        print(f\"Train no: {slf.trainNo} is running on time\")\n",
    "    def getFare(slf, fro, to):\n",
    "        print(f\"Ticket fare in train no: {slf.trainNo} from {fro} to {to} is: {randint(222, 5555)}\")\n",
    "    \n",
    "t = Train (12399)\n",
    "t.book(\"Lahore\", \"Karachi\")\n",
    "t.getStatus()\n",
    "t.getFare(\"Lahore\", \"Karachi\")"
   ]
  },
  {
   "cell_type": "code",
   "execution_count": null,
   "id": "79b4ca0a-3430-43a4-9d30-417590bafd41",
   "metadata": {},
   "outputs": [],
   "source": []
  }
 ],
 "metadata": {
  "kernelspec": {
   "display_name": "Python 3 (ipykernel)",
   "language": "python",
   "name": "python3"
  },
  "language_info": {
   "codemirror_mode": {
    "name": "ipython",
    "version": 3
   },
   "file_extension": ".py",
   "mimetype": "text/x-python",
   "name": "python",
   "nbconvert_exporter": "python",
   "pygments_lexer": "ipython3",
   "version": "3.13.7"
  }
 },
 "nbformat": 4,
 "nbformat_minor": 5
}
