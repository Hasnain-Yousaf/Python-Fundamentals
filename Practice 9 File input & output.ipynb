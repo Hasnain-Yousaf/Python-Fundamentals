{
 "cells": [
  {
   "cell_type": "markdown",
   "id": "f2923406-69bd-4d7e-9390-5bac60d2334c",
   "metadata": {},
   "source": [
    "# Read File"
   ]
  },
  {
   "cell_type": "code",
   "execution_count": 1,
   "id": "685e3f54-9806-44f3-a539-e5231c6be9ca",
   "metadata": {},
   "outputs": [
    {
     "name": "stdout",
     "output_type": "stream",
     "text": [
      "Hasnain Buddy!\n"
     ]
    }
   ],
   "source": [
    "file = open(r\"C:\\Users\\hasna\\OneDrive\\Desktop\\Hasnain! Buddy.txt\")\n",
    "data = file.read()\n",
    "print(data)\n",
    "file.close()"
   ]
  },
  {
   "cell_type": "markdown",
   "id": "c459c997-6e96-4109-ac5e-5a7055cbfc7e",
   "metadata": {},
   "source": [
    "# Write File"
   ]
  },
  {
   "cell_type": "code",
   "execution_count": 2,
   "id": "563334a8-7179-4802-8761-c8759203d02a",
   "metadata": {},
   "outputs": [],
   "source": [
    "st = 'Hasnain you are my Gem!'\n",
    "f = open(r\"C:\\Users\\hasna\\OneDrive\\Desktop\\my_file.txt\",'w')\n",
    "f.write(st)\n",
    "f.close()"
   ]
  },
  {
   "cell_type": "code",
   "execution_count": 3,
   "id": "1cfb52db-43b2-43bf-a210-285f5f929ca6",
   "metadata": {},
   "outputs": [],
   "source": [
    "# Now it's Time to check if there've been some changes or not"
   ]
  },
  {
   "cell_type": "code",
   "execution_count": 4,
   "id": "ed6f8d95-c434-48e1-8540-c143fb838486",
   "metadata": {},
   "outputs": [
    {
     "name": "stdout",
     "output_type": "stream",
     "text": [
      "Hasnain you are my Gem!\n"
     ]
    }
   ],
   "source": [
    "f = open(r\"C:\\Users\\hasna\\OneDrive\\Desktop\\my_file.txt\")\n",
    "my_data = f.read()\n",
    "print(my_data)\n",
    "f.close()"
   ]
  },
  {
   "cell_type": "code",
   "execution_count": null,
   "id": "f2b225cc-4121-427e-a8f0-672c4ba71664",
   "metadata": {},
   "outputs": [],
   "source": []
  },
  {
   "cell_type": "code",
   "execution_count": 7,
   "id": "9716eb15-a000-4af1-a24a-92979db84855",
   "metadata": {},
   "outputs": [
    {
     "name": "stdout",
     "output_type": "stream",
     "text": [
      "['Hasnain you are my Gem!\\n', 'This is the second line'] <class 'list'>\n"
     ]
    }
   ],
   "source": [
    "f = open(r\"C:\\Users\\hasna\\OneDrive\\Desktop\\my_file.txt\")\n",
    "lines = f.readlines()\n",
    "print(lines,type(lines))\n",
    "f.close()"
   ]
  },
  {
   "cell_type": "code",
   "execution_count": null,
   "id": "b770609f-6fb2-4bed-a60d-82fe2bad93b5",
   "metadata": {},
   "outputs": [],
   "source": []
  },
  {
   "cell_type": "code",
   "execution_count": 9,
   "id": "e77f7a7d-3ab5-4a31-8953-fb1cc2ce1246",
   "metadata": {},
   "outputs": [
    {
     "name": "stdout",
     "output_type": "stream",
     "text": [
      "Hasnain you are my Gem!\n",
      " <class 'str'>\n",
      "This is the second line <class 'str'>\n"
     ]
    }
   ],
   "source": [
    "f = open(r\"C:\\Users\\hasna\\OneDrive\\Desktop\\my_file.txt\")\n",
    "\n",
    "line1 = f.readline()\n",
    "print(line1,type(line1))\n",
    "\n",
    "line2 = f.readline()\n",
    "print(line2,type(line2))\n",
    "\n",
    "f.close()"
   ]
  },
  {
   "cell_type": "code",
   "execution_count": null,
   "id": "e5634d37-1b63-47ce-b5f8-878d21dfe388",
   "metadata": {},
   "outputs": [],
   "source": []
  },
  {
   "cell_type": "code",
   "execution_count": 11,
   "id": "2e762bc2-c558-48c4-8410-bf1cba0bd899",
   "metadata": {},
   "outputs": [
    {
     "name": "stdout",
     "output_type": "stream",
     "text": [
      "Hasnain you are my Gem!\n",
      "This is the second line\n"
     ]
    }
   ],
   "source": [
    "# file = open(r\"C:\\Users\\hasna\\OneDrive\\Desktop\\Hasnain! Buddy.txt\")\n",
    "# data = file.read()\n",
    "# print(data)\n",
    "# file.close()\n",
    "\n",
    "# ...........................The Function can be done by .....with..... statement........................................\n",
    "with open(r\"C:\\Users\\hasna\\OneDrive\\Desktop\\my_file.txt\") as f2:\n",
    "    print(f2.read())\n",
    "\n",
    "# You don't have to explicitly close the file"
   ]
  },
  {
   "cell_type": "markdown",
   "id": "3c1464c9-4ac2-4ea1-8450-60a412b2328b",
   "metadata": {},
   "source": [
    "# Problems"
   ]
  },
  {
   "cell_type": "code",
   "execution_count": 10,
   "id": "ca93f510-8105-423d-95d2-7e6a7edaea88",
   "metadata": {},
   "outputs": [
    {
     "name": "stdout",
     "output_type": "stream",
     "text": [
      "twinkle twinkle little star \n",
      "how I wounder what you are\n",
      "\n",
      "This poem is about 'Twinkles'\n"
     ]
    }
   ],
   "source": [
    "poetry = open(r\"C:\\Users\\hasna\\OneDrive\\Desktop\\Twinkle.txt\")\n",
    "poem = poetry.read()\n",
    "print(poem)\n",
    "print()\n",
    "\n",
    "if ('twinkle' in poem):\n",
    "    print(\"This poem is about 'Twinkles'\")\n",
    "else:\n",
    "    print(\"This Poem is not about 'Twinkles'\")\n",
    "    \n",
    "poetry.close()"
   ]
  },
  {
   "cell_type": "code",
   "execution_count": 4,
   "id": "ef5585d1-aaa7-435c-8c14-12f8251c8af2",
   "metadata": {},
   "outputs": [
    {
     "name": "stdout",
     "output_type": "stream",
     "text": [
      "twinkle twinkle little star \n",
      "how I wounder what you are\n"
     ]
    }
   ],
   "source": [
    "with open(r\"C:\\Users\\hasna\\OneDrive\\Desktop\\Twinkle.txt\") as poem:\n",
    "    print(poem.read())"
   ]
  },
  {
   "cell_type": "code",
   "execution_count": null,
   "id": "70d473c3-e4a8-42c7-8a7a-0bc66f81949b",
   "metadata": {},
   "outputs": [],
   "source": []
  }
 ],
 "metadata": {
  "kernelspec": {
   "display_name": "Python 3 (ipykernel)",
   "language": "python",
   "name": "python3"
  },
  "language_info": {
   "codemirror_mode": {
    "name": "ipython",
    "version": 3
   },
   "file_extension": ".py",
   "mimetype": "text/x-python",
   "name": "python",
   "nbconvert_exporter": "python",
   "pygments_lexer": "ipython3",
   "version": "3.13.7"
  }
 },
 "nbformat": 4,
 "nbformat_minor": 5
}
