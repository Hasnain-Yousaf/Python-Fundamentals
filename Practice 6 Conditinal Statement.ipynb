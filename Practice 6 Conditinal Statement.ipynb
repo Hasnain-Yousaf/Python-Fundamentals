{
 "cells": [
  {
   "cell_type": "markdown",
   "id": "a11b20e7-353d-4acc-9cf4-c271b895608c",
   "metadata": {},
   "source": [
    "# If elif else Ladder"
   ]
  },
  {
   "cell_type": "code",
   "execution_count": 17,
   "id": "1a7ca045-0674-458d-8c2e-9e11ad48d2a8",
   "metadata": {},
   "outputs": [
    {
     "name": "stdin",
     "output_type": "stream",
     "text": [
      "Enter your Age 60\n"
     ]
    },
    {
     "name": "stdout",
     "output_type": "stream",
     "text": [
      "Make your considerations on the day of Judgement\n",
      "May you live long\n",
      "\n",
      "End of the Programme\n"
     ]
    }
   ],
   "source": [
    "a = int(input('Enter your Age'))\n",
    "\n",
    "if (50>a>=19):\n",
    "    print('You are not a teenager')\n",
    "    print('Do Hard work')\n",
    "\n",
    "elif (a<=0):\n",
    "    print('You are out of your mind')\n",
    "    print(\"Give me a right age number otherwise I'll kick your stomache\")\n",
    "\n",
    "elif (a>=50):\n",
    "    print('Make your considerations on the day of Judgement')\n",
    "    print('May you live long')\n",
    "\n",
    "else:\n",
    "    print('You are a teenager')\n",
    "    print('Do Study and worth it')\n",
    "\n",
    "print()\n",
    "print('End of the Programme')"
   ]
  },
  {
   "cell_type": "code",
   "execution_count": 21,
   "id": "c9286f98-a30b-4211-ac94-c63329ef8385",
   "metadata": {},
   "outputs": [
    {
     "name": "stdout",
     "output_type": "stream",
     "text": [
      "0\n",
      "Oannnn annn ann\n"
     ]
    }
   ],
   "source": [
    "s = 0 and 1\n",
    "print(s)\n",
    "if(s==True):\n",
    "    print('Cheers!')\n",
    "\n",
    "else:\n",
    "    print('Oannnn annn ann')"
   ]
  },
  {
   "cell_type": "markdown",
   "id": "0b229de2-eef5-4839-a7ef-cd1298b8d5d7",
   "metadata": {},
   "source": [
    "# RELATIONAL OPERATORS \n",
    "    Relational Operators are used to evaluate conditions inside the if statements. Some \n",
    "    examples of relational operators are: \n",
    "    ==: equals. \n",
    "    > =: greater than/ equal to. \n",
    "    < =: lesser than/ equal to."
   ]
  },
  {
   "cell_type": "markdown",
   "id": "3f695ceb-f381-4e72-bbd2-e2d05ed0eb32",
   "metadata": {},
   "source": [
    "# LOGICAL OPERATORS \n",
    "    In python logical operators operate on conditional statements. For Example: \n",
    "    and – true if both operands are true else false. \n",
    "    or – true if at least one operand is true or else false. \n",
    "    not – inverts true to false & false to true. "
   ]
  },
  {
   "cell_type": "code",
   "execution_count": 23,
   "id": "1088df44-5b71-47bc-9a8e-f041c46a32cc",
   "metadata": {},
   "outputs": [
    {
     "name": "stdin",
     "output_type": "stream",
     "text": [
      "Enter your Age 50\n"
     ]
    },
    {
     "name": "stdout",
     "output_type": "stream",
     "text": [
      "Age is Even\n",
      "\n",
      "Make your considerations on the day of Judgement\n",
      "May you live long\n",
      "\n",
      "End of the Programme\n"
     ]
    }
   ],
   "source": [
    "# Independent if statements\n",
    "\n",
    "a = int(input('Enter your Age'))\n",
    "# if statement no: 1\n",
    "if (a%2 ==0):\n",
    "    print('Age is Even')\n",
    "    print()\n",
    "# if statement no: 2\n",
    "if (50>a>=19):\n",
    "    print('You are not a teenager')\n",
    "    print('Do Hard work')\n",
    "\n",
    "elif (a<=0):\n",
    "    print('You are out of your mind')\n",
    "    print(\"Give me a right age number otherwise I'll kick your stomache\")\n",
    "\n",
    "elif (a>=50):\n",
    "    print('Make your considerations on the day of Judgement')\n",
    "    print('May you live long')\n",
    "\n",
    "else:\n",
    "    print('You are a teenager')\n",
    "    print('Do Study and worth it')\n",
    "\n",
    "print()\n",
    "print('End of the Programme')"
   ]
  },
  {
   "cell_type": "markdown",
   "id": "bab6bd60-8bb3-4c0b-888f-1d0c2915cf80",
   "metadata": {},
   "source": [
    "# Problems"
   ]
  },
  {
   "cell_type": "code",
   "execution_count": 27,
   "id": "8ed7fa08-65f6-4717-b057-ac69bba09e27",
   "metadata": {},
   "outputs": [
    {
     "name": "stdin",
     "output_type": "stream",
     "text": [
      "Enter your Number 64\n",
      "Enter your Number 756\n",
      "Enter your Number 345\n",
      "Enter your Number 675\n"
     ]
    },
    {
     "name": "stdout",
     "output_type": "stream",
     "text": [
      "64 756 345 675\n",
      "Number2 is greatest number\n",
      "\n",
      "Note: Negative values are not allowed\n"
     ]
    }
   ],
   "source": [
    "# Write a program to find the greatest of four numbers entered by the user.\n",
    "\n",
    "num1 = int(input('Enter your Number'))\n",
    "num2 = int(input('Enter your Number'))\n",
    "num3 = int(input('Enter your Number'))\n",
    "num4 = int(input('Enter your Number'))\n",
    "print(num1,num2,num3,num4)\n",
    "\n",
    "if (num1>num2 and num1>num3 and num1>num4):\n",
    "    print('Number1 is greatest number')\n",
    "elif (num2>num1 and num2>num3 and num2>num4):\n",
    "    print('Number2 is greatest number')\n",
    "elif (num3>num1 and num3>num2 and num3>num4):\n",
    "    print('Number3 is greatest number')\n",
    "elif (num4>num1 and num4>num2 and num4>num3):\n",
    "    print('Number4 is greatest number')\n",
    "print()\n",
    "print('Note: Negative values are not allowed')"
   ]
  },
  {
   "cell_type": "code",
   "execution_count": 47,
   "id": "bbd4e6d6-6563-47b2-ade8-8a7c33717277",
   "metadata": {},
   "outputs": [
    {
     "name": "stdin",
     "output_type": "stream",
     "text": [
      "please enter the marks of Eng in % 64\n",
      "please enter the marks of Math in % 34\n",
      "please enter the marks of Islamiyat in % 69\n"
     ]
    },
    {
     "name": "stdout",
     "output_type": "stream",
     "text": [
      "\n",
      "Your English %age is:  64\n",
      "Conngratulations! You have passed the exam\n",
      "\n",
      "Your Math %age is:  34\n",
      "You've earned the average score\n",
      "\n",
      "Your Islamiyat %age is:  69\n",
      "Conngratulations! You have passed the exam\n",
      "\n",
      "Average score is 55.666666666666664\n",
      "Congratulations! You've passed the whole Exam\n"
     ]
    }
   ],
   "source": [
    "# Write a program to find out whether a student has passed or failed if it requires a \n",
    "# total of 40% and at least 33% in each subject to pass. Assume 3 subjects and \n",
    "# take marks as an input from the user.\n",
    "\n",
    "eng = int(input('please enter the marks of Eng in %'))\n",
    "mth = int(input('please enter the marks of Math in %'))\n",
    "isl = int(input('please enter the marks of Islamiyat in %'))\n",
    "print()\n",
    "print('Your English %age is: ',eng)\n",
    "if (eng>=40):\n",
    "    print('Conngratulations! You have passed the exam')\n",
    "elif (33<=eng<40):\n",
    "    print(\"You've earned the average score\")\n",
    "else:\n",
    "    print(\"Sorry! We can't Help you.. Try Again\")\n",
    "\n",
    "print()\n",
    "\n",
    "print('Your Math %age is: ',mth)\n",
    "if (mth>=40):\n",
    "    print('Conngratulations! You have passed the exam')\n",
    "elif (33<=mth<40):\n",
    "    print(\"You've earned the average score\")\n",
    "else:\n",
    "    print(\"Sorry! We can't Help you.. Try Again\")\n",
    "\n",
    "print()\n",
    "\n",
    "print('Your Islamiyat %age is: ',isl)\n",
    "if (isl>=40):\n",
    "    print('Conngratulations! You have passed the exam')\n",
    "elif (33<=isl<40):\n",
    "    print(\"You've earned the average score\")\n",
    "else:\n",
    "    print(\"Sorry! We can't Help you.. Try Again\")\n",
    "\n",
    "print()\n",
    "average = ((eng + mth + isl)/300)*100\n",
    "print('Average score is', average)\n",
    "\n",
    "if (average>=40):\n",
    "    print(\"Congratulations! You've passed the whole Exam\")\n",
    "\n",
    "else:\n",
    "    print('Sorry! Better luck for next time')"
   ]
  },
  {
   "cell_type": "code",
   "execution_count": null,
   "id": "b486e2ef-964d-427d-8394-bc567d863490",
   "metadata": {},
   "outputs": [],
   "source": []
  },
  {
   "cell_type": "code",
   "execution_count": 51,
   "id": "159f09f5-2f07-4901-992d-399b6b34371d",
   "metadata": {},
   "outputs": [
    {
     "name": "stdin",
     "output_type": "stream",
     "text": [
      "Please Enter your message: You are always welcome, but before you go visit my channel and subscribe now \n"
     ]
    },
    {
     "name": "stdout",
     "output_type": "stream",
     "text": [
      "Your message has been detected as Spam mail\n"
     ]
    }
   ],
   "source": [
    "# A spam comment is defined as a text containing following keywords: \n",
    "# “Make a lot of money”, “buy now”, “subscribe this”, “click this”. Write a program \n",
    "# to detect these spams. \n",
    "\n",
    "p1 = 'make a lot of money'\n",
    "p2 = 'buy now'\n",
    "p3 = 'click now'\n",
    "p4 = 'subscribe now'\n",
    "\n",
    "msg =  input('Please Enter your message:')\n",
    "\n",
    "if ((p1 in msg), (p2 in msg), (p3 in msg), (p4 in msg)):\n",
    "    print('Your message has been detected as Spam mail')\n",
    "\n",
    "else:\n",
    "    print('Your message is important to me as an engine of a car')"
   ]
  },
  {
   "cell_type": "code",
   "execution_count": null,
   "id": "042ff70e-2b74-4413-936f-f6fe96f00bc8",
   "metadata": {},
   "outputs": [],
   "source": []
  },
  {
   "cell_type": "code",
   "execution_count": 57,
   "id": "2fd0674b-4d97-45d1-acb4-0c2fab951645",
   "metadata": {},
   "outputs": [
    {
     "name": "stdin",
     "output_type": "stream",
     "text": [
      "Please Enter your name:  Hasnain\n"
     ]
    },
    {
     "name": "stdout",
     "output_type": "stream",
     "text": [
      "\n",
      "Your give name has 7 characters\n",
      "Your given name is acceptable\n"
     ]
    }
   ],
   "source": [
    "# Write a program to find whether a given username contains less than 10 characters or not. \n",
    "\n",
    "name = input('Please Enter your name: ')\n",
    "print()\n",
    "print(f'Your give name has {len(name)} characters')\n",
    "\n",
    "if (len(name)<10):\n",
    "    print('Your given name is acceptable')\n",
    "\n",
    "else:\n",
    "    print('Your given name is not in the range')"
   ]
  },
  {
   "cell_type": "code",
   "execution_count": null,
   "id": "1d6c62a5-a582-417f-b1d7-4da5dd613de1",
   "metadata": {},
   "outputs": [],
   "source": []
  },
  {
   "cell_type": "code",
   "execution_count": 68,
   "id": "73e1a2a7-44b2-4f3c-9ea5-faa20d6a06d1",
   "metadata": {},
   "outputs": [
    {
     "name": "stdin",
     "output_type": "stream",
     "text": [
      "please enter your marks 100\n"
     ]
    },
    {
     "name": "stdout",
     "output_type": "stream",
     "text": [
      "You've gotten Ex Grade\n"
     ]
    }
   ],
   "source": [
    "# Write a program to calculate the grade of a student from his marks from the \n",
    "# following scheme: \n",
    "# 90 – 100 => Ex ,80 – 90 => A ,70 – 80 => B ,60 – 70  =>C ,50 – 60 => D , <50 => F \n",
    "\n",
    "marks = int(input('please enter your marks'))\n",
    "\n",
    "if (marks>90):\n",
    "    print(\"You've gotten Ex Grade\")\n",
    "elif (80<marks<=90):\n",
    "    print(\"You've gotten A Grade\")\n",
    "elif (70<marks<=80):\n",
    "    print(\"You've gotten B Grade\")\n",
    "elif (60<marks<=70):\n",
    "    print(\"You've gotten C Grade\")\n",
    "elif (50<=marks<=60):\n",
    "    print(\"You've gotten D Grade\")\n",
    "elif (marks<50):\n",
    "    print(\"You've gotten F Grade\")"
   ]
  },
  {
   "cell_type": "code",
   "execution_count": null,
   "id": "d1447272-e2ab-4ffd-824a-b5a74c3006cb",
   "metadata": {},
   "outputs": [],
   "source": []
  },
  {
   "cell_type": "code",
   "execution_count": 71,
   "id": "a7d30d59-0661-4c3d-b1ba-a82575e60122",
   "metadata": {},
   "outputs": [
    {
     "name": "stdout",
     "output_type": "stream",
     "text": [
      "This thesis is about Hasnain, Yes!\n"
     ]
    }
   ],
   "source": [
    "# Write a program to find out whether a given post is talking about “Harry” or not.\n",
    "\n",
    "post = \"Hasnain is a brilliant student, and he always love to be alone, and do hardwork....Hasnain one day You'll get your destination InshAllah.\"\n",
    "\n",
    "if ('Hasnain' in post):\n",
    "    print('This thesis is about Hasnain, Yes!')\n",
    "\n",
    "if ('Hasnain'.lower() in post.lower()):\n",
    "    print('This thesis is about Hasnain, Yes!')\n",
    "else:\n",
    "    print(\"You're in a wrong thesis\")"
   ]
  },
  {
   "cell_type": "code",
   "execution_count": null,
   "id": "6082ebc9-7473-43ae-8e2f-16c441417a65",
   "metadata": {},
   "outputs": [],
   "source": []
  }
 ],
 "metadata": {
  "kernelspec": {
   "display_name": "Python 3 (ipykernel)",
   "language": "python",
   "name": "python3"
  },
  "language_info": {
   "codemirror_mode": {
    "name": "ipython",
    "version": 3
   },
   "file_extension": ".py",
   "mimetype": "text/x-python",
   "name": "python",
   "nbconvert_exporter": "python",
   "pygments_lexer": "ipython3",
   "version": "3.13.7"
  }
 },
 "nbformat": 4,
 "nbformat_minor": 5
}
