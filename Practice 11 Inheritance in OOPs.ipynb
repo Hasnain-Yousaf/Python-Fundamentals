{
 "cells": [
  {
   "cell_type": "code",
   "execution_count": 2,
   "id": "3f12925f-dd9e-4998-aada-5d2bc1bff99f",
   "metadata": {},
   "outputs": [],
   "source": [
    "# Syntax:\n",
    "\n",
    "class Employee:\n",
    "    company = 'Itc'\n",
    "    def show(self):\n",
    "        print(f\"The name of Employee is {self.name} and the salary is {self.salary}\")"
   ]
  },
  {
   "cell_type": "code",
   "execution_count": 3,
   "id": "1b717e25-c174-4def-809f-bb0e284c7104",
   "metadata": {},
   "outputs": [
    {
     "name": "stdout",
     "output_type": "stream",
     "text": [
      "Itc\n",
      "The name of Employee is Hasnain and the salary is $1M\n"
     ]
    }
   ],
   "source": [
    "a = Employee()\n",
    "a.name = 'Hasnain'\n",
    "a.salary = '$1M'\n",
    "print(a.company)\n",
    "a.show()"
   ]
  },
  {
   "cell_type": "markdown",
   "id": "2649ea6f-d849-4037-852b-28fe70cca0b2",
   "metadata": {},
   "source": [
    "# Defining Parent & Child Class"
   ]
  },
  {
   "cell_type": "code",
   "execution_count": 4,
   "id": "6c7b646e-4a22-4a1a-9b12-1b6fc879193e",
   "metadata": {},
   "outputs": [
    {
     "name": "stdout",
     "output_type": "stream",
     "text": [
      "Itc , BMW The world's strongest made\n"
     ]
    }
   ],
   "source": [
    "class Programmer(Employee):\n",
    "    my_company = \"BMW The world's strongest made\"\n",
    "    def showLanguage (self):\n",
    "        print(f\"The name of Employee is {self.name} and the salary is {self.salary}\")\n",
    "\n",
    "\n",
    "a = Employee()\n",
    "b = Programmer()\n",
    "\n",
    "print(b.company, \",\",b.my_company)"
   ]
  },
  {
   "cell_type": "code",
   "execution_count": 5,
   "id": "c34b6d3f-b265-4cf5-ae8e-f592b03501b2",
   "metadata": {},
   "outputs": [
    {
     "name": "stdout",
     "output_type": "stream",
     "text": [
      "Itc , BMW The world's strongest made , Mercedes The world's Decent made\n"
     ]
    }
   ],
   "source": [
    "class Manager(Programmer,Employee):\n",
    "    your_company = \"Mercedes The world's Decent made\"\n",
    "    \n",
    "c = Manager()\n",
    "\n",
    "print(c.company, \",\",c.my_company, \",\",c.your_company)"
   ]
  },
  {
   "cell_type": "markdown",
   "id": "c666c0ac-938b-4899-9ea0-eca81877eeb6",
   "metadata": {},
   "source": [
    "# Super Method"
   ]
  },
  {
   "cell_type": "code",
   "execution_count": 8,
   "id": "699ceac5-b1a0-4838-bf77-b43464f8e4f2",
   "metadata": {},
   "outputs": [
    {
     "name": "stdout",
     "output_type": "stream",
     "text": [
      "This is Child2 Class\n",
      "1 2 3\n"
     ]
    }
   ],
   "source": [
    "# Without,Super method that will only run the parent concerning constructor \n",
    "class Employee:\n",
    "    a = 1\n",
    "    def __init__(self):\n",
    "        print(\"This is a Parent Class\")\n",
    "\n",
    "class Programmer(Employee):\n",
    "    b = 2\n",
    "    def __init__(self):\n",
    "        print(\"This is Child1 Class\")\n",
    "\n",
    "class Manager(Programmer):\n",
    "    c = 3\n",
    "    def __init__(self):\n",
    "        print(\"This is Child2 Class\")\n",
    "\n",
    "o = Manager()\n",
    "print(o.a,o.b,o.c)"
   ]
  },
  {
   "cell_type": "code",
   "execution_count": 10,
   "id": "c833a061-cbf2-4f3e-b276-6caf9fe46b32",
   "metadata": {},
   "outputs": [
    {
     "name": "stdout",
     "output_type": "stream",
     "text": [
      "This is a Parent Class\n",
      "This is Child1 Class\n",
      "This is Child2 Class\n",
      "1 2 3\n"
     ]
    }
   ],
   "source": [
    "# Now Through Super Method, and that will run all the concerning constructors\n",
    "class Employee:\n",
    "    a = 1\n",
    "    def __init__(self):\n",
    "        print(\"This is a Parent Class\")\n",
    "\n",
    "class Programmer(Employee):\n",
    "    b = 2\n",
    "    def __init__(self):\n",
    "        super().__init__()\n",
    "        print(\"This is Child1 Class\")\n",
    "\n",
    "class Manager(Programmer):\n",
    "    c = 3\n",
    "    def __init__(self):\n",
    "        super().__init__()\n",
    "        print(\"This is Child2 Class\")\n",
    "\n",
    "o = Manager()\n",
    "print(o.a,o.b,o.c)"
   ]
  },
  {
   "cell_type": "markdown",
   "id": "e5a99ca1-ee64-4892-98e0-0de446be844d",
   "metadata": {},
   "source": [
    "# ClassMethod"
   ]
  },
  {
   "cell_type": "code",
   "execution_count": 16,
   "id": "9aaf8ce2-fccf-4ab8-9258-a199f9eae3c3",
   "metadata": {},
   "outputs": [
    {
     "name": "stdout",
     "output_type": "stream",
     "text": [
      "Without classMethod the value of a is under mentioned\n",
      "The calss attribute of a is 45\n",
      "\n",
      "with classMethod the value of a is under mentioned\n",
      "The calss attribute of a is 1\n"
     ]
    }
   ],
   "source": [
    "# Without using ClassMethod\n",
    "class Employee:\n",
    "    a = 1\n",
    "    def show (self):\n",
    "        print(\"Without classMethod the value of a is under mentioned\")\n",
    "        print(f\"The calss attribute of a is {self.a}\")\n",
    "\n",
    "e = Employee()\n",
    "e.a = 45\n",
    "e.show()\n",
    "\n",
    "\n",
    "# With ClassMethod\n",
    "class Manager:\n",
    "    b = 1\n",
    "\n",
    "    @classmethod\n",
    "    def show (cls):\n",
    "        print()\n",
    "        print(\"with classMethod the value of a is under mentioned\")\n",
    "        print(f\"The calss attribute of a is {cls.b}\")\n",
    "\n",
    "m = Manager()\n",
    "m.b = 45\n",
    "m.show()"
   ]
  },
  {
   "cell_type": "code",
   "execution_count": 28,
   "id": "6a7f9c80-862a-4b43-943c-3856f315e2c1",
   "metadata": {},
   "outputs": [
    {
     "name": "stdout",
     "output_type": "stream",
     "text": [
      "Bow Bow\n"
     ]
    }
   ],
   "source": [
    "# StaticMethod   ( self is not Required if we are including StaticMethod )\n",
    "class Dog(Pets):\n",
    "\n",
    "    @staticmethod\n",
    "    def bark():\n",
    "        print(\"Bow Bow\")\n",
    "\n",
    "d = Dog()\n",
    "d.bark()"
   ]
  },
  {
   "cell_type": "markdown",
   "id": "4585b77e-4566-432d-a546-e728ed3891b6",
   "metadata": {},
   "source": [
    "# Operator OverLoading"
   ]
  },
  {
   "cell_type": "code",
   "execution_count": 20,
   "id": "ced23d8e-9d65-4ac8-8483-440badb9f9e2",
   "metadata": {},
   "outputs": [
    {
     "name": "stdout",
     "output_type": "stream",
     "text": [
      "3\n"
     ]
    }
   ],
   "source": [
    "class number:\n",
    "    def __init__(self, n):\n",
    "        self.n = n\n",
    "\n",
    "    def __add__(self,num):\n",
    "        return self.n + num.n\n",
    "\n",
    "n = number(1)\n",
    "m = number(2)\n",
    "print(n + m)\n",
    "\n",
    "\n",
    "# __add__(P2), __sub__(P2), __mul__(P2), __truediv__(P2)"
   ]
  },
  {
   "cell_type": "markdown",
   "id": "56d59464-7cb7-478c-ac82-be01ca22f50a",
   "metadata": {},
   "source": [
    "# Practice Problems"
   ]
  },
  {
   "cell_type": "code",
   "execution_count": 24,
   "id": "0c11e3c9-a994-4800-90b5-d8489d3dc782",
   "metadata": {},
   "outputs": [
    {
     "name": "stdout",
     "output_type": "stream",
     "text": [
      "The Vector is 1i + 2j\n",
      "The Vector is 1i + 2j + 3k\n"
     ]
    }
   ],
   "source": [
    "# 1. Create a class (2-D vector) and use it to create another class representing a 3-D vector. \n",
    "\n",
    "class twoDVector:\n",
    "    def __init__(self, i, j):\n",
    "        self.i = i\n",
    "        self.j = j\n",
    "\n",
    "    def show(self):\n",
    "        print(f\"The Vector is {self.i}i + {self.j}j\")\n",
    "\n",
    "class threeDVector(twoDVector):\n",
    "    def __init__(self, i, j, k):\n",
    "        super(). __init__ (i,j)\n",
    "        self.k = k\n",
    "\n",
    "    def show(self):\n",
    "        print(f\"The Vector is {self.i}i + {self.j}j + {self.k}k\")\n",
    "         \n",
    "\n",
    "a = twoDVector(1,2)\n",
    "b = threeDVector(1,2,3)\n",
    "a.show()\n",
    "b.show()"
   ]
  },
  {
   "cell_type": "code",
   "execution_count": 29,
   "id": "bde30057-b7d8-43ec-af89-069a85d06e0c",
   "metadata": {},
   "outputs": [
    {
     "name": "stdout",
     "output_type": "stream",
     "text": [
      "Bow Bow\n"
     ]
    }
   ],
   "source": [
    "# 2. Create a class ‘Pets’ from a class ‘Animals’ and further create a class ‘Dog’ from \n",
    "\n",
    "class Animals:\n",
    "    pass\n",
    "    \n",
    "class Pets(Animals):\n",
    "    pass\n",
    "    \n",
    "class Dog(Pets):\n",
    "\n",
    "    @staticmethod\n",
    "    def bark():\n",
    "        print(\"Bow Bow\")\n",
    "\n",
    "\n",
    "d = Dog()\n",
    "d.bark()"
   ]
  },
  {
   "cell_type": "code",
   "execution_count": null,
   "id": "0c2b763a-1382-464c-8abd-49a359f2e5b0",
   "metadata": {},
   "outputs": [],
   "source": []
  }
 ],
 "metadata": {
  "kernelspec": {
   "display_name": "Python 3 (ipykernel)",
   "language": "python",
   "name": "python3"
  },
  "language_info": {
   "codemirror_mode": {
    "name": "ipython",
    "version": 3
   },
   "file_extension": ".py",
   "mimetype": "text/x-python",
   "name": "python",
   "nbconvert_exporter": "python",
   "pygments_lexer": "ipython3",
   "version": "3.13.7"
  }
 },
 "nbformat": 4,
 "nbformat_minor": 5
}
